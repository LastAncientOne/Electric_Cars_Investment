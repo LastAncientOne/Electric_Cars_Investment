{
  "cells": [
    {
      "cell_type": "markdown",
      "source": [
        "# FinViz analysis for Electric Cars"
      ],
      "metadata": {
        "nteract": {
          "transient": {
            "deleting": false
          }
        }
      }
    },
    {
      "cell_type": "code",
      "source": [
        "from finvizfinance.quote import finvizfinance"
      ],
      "outputs": [],
      "execution_count": 1,
      "metadata": {
        "collapsed": true,
        "jupyter": {
          "source_hidden": false,
          "outputs_hidden": false
        },
        "nteract": {
          "transient": {
            "deleting": false
          }
        },
        "execution": {
          "shell.execute_reply": "2022-10-20T00:26:56.674Z",
          "iopub.status.busy": "2022-10-20T00:26:57.063Z",
          "iopub.execute_input": "2022-10-20T00:26:57.073Z",
          "iopub.status.idle": "2022-10-20T00:26:57.085Z"
        }
      }
    },
    {
      "cell_type": "markdown",
      "source": [
        "## RIVN"
      ],
      "metadata": {
        "nteract": {
          "transient": {
            "deleting": false
          }
        }
      }
    },
    {
      "cell_type": "code",
      "source": [
        "rivn = finvizfinance('RIVN')"
      ],
      "outputs": [],
      "execution_count": 2,
      "metadata": {
        "collapsed": true,
        "jupyter": {
          "source_hidden": false,
          "outputs_hidden": false
        },
        "nteract": {
          "transient": {
            "deleting": false
          }
        },
        "execution": {
          "shell.execute_reply": "2022-10-20T00:26:56.683Z",
          "iopub.status.busy": "2022-10-20T00:26:57.100Z",
          "iopub.execute_input": "2022-10-20T00:26:57.110Z",
          "iopub.status.idle": "2022-10-20T00:26:57.121Z"
        }
      }
    },
    {
      "cell_type": "code",
      "source": [
        "rivn.ticker_fundament()"
      ],
      "outputs": [
        {
          "output_type": "execute_result",
          "execution_count": 3,
          "data": {
            "text/plain": "{'Company': 'Rivian Automotive, Inc.',\n 'Sector': 'Consumer Cyclical',\n 'Industry': 'Auto Manufacturers',\n 'Country': 'USA',\n 'Index': '-',\n 'P/E': '-',\n 'EPS (ttm)': '-27.93',\n 'Insider Own': '9.70%',\n 'Shs Outstand': '908.00M',\n 'Perf Week': '-2.63%',\n 'Market Cap': '32.67B',\n 'Forward P/E': '-',\n 'EPS next Y': '-5.67',\n 'Insider Trans': '-12.92%',\n 'Shs Float': '796.61M',\n 'Perf Month': '-11.89%',\n 'Income': '-6999.00M',\n 'PEG': '-',\n 'EPS next Q': '-1.81',\n 'Inst Own': '64.30%',\n 'Short Float': '6.43%',\n 'Perf Quarter': '-7.71%',\n 'Sales': '514.00M',\n 'P/S': '63.56',\n 'EPS this Y': '56.90%',\n 'Inst Trans': '-0.03%',\n 'Short Ratio': '2.94',\n 'Perf Half Y': '-13.06%',\n 'Book/sh': '18.58',\n 'P/B': '1.70',\n 'EPS next Y Percentage': '12.20%',\n 'ROA': '-38.70%',\n 'Target Price': '53.06',\n 'Perf Year': '-',\n 'Cash/sh': '14.39',\n 'P/C': '2.19',\n 'EPS next 5Y': '-',\n 'ROE': '-54.90%',\n '52W Range From': '19.25',\n '52W Range To': '179.47',\n 'Perf YTD': '-69.62%',\n 'Dividend': '-',\n 'P/FCF': '-',\n 'EPS past 5Y': '-',\n 'ROI': '-22.50%',\n '52W High': '-82.45%',\n 'Beta': '-',\n 'Dividend %': '-',\n 'Quick Ratio': '8.60',\n 'Sales past 5Y': '-',\n 'Gross Margin': '-',\n '52W Low': '63.64%',\n 'ATR': '2.41',\n 'Employees': '10422',\n 'Current Ratio': '9.00',\n 'Sales Q/Q': '-',\n 'Oper. Margin': '-',\n 'RSI (14)': '44.38',\n 'Volatility W': '7.73%',\n 'Volatility M': '6.95%',\n 'Optionable': 'Yes',\n 'Debt/Eq': '0.07',\n 'EPS Q/Q': '-182.30%',\n 'Profit Margin': '-',\n 'Rel Volume': '0.61',\n 'Prev Close': '31.64',\n 'Shortable': 'Yes',\n 'LT Debt/Eq': '0.07',\n 'Earnings': 'Nov 09 AMC',\n 'Payout': '-',\n 'Avg Volume': '17.44M',\n 'Price': '31.50',\n 'Recom': '2.10',\n 'SMA20': '-5.22%',\n 'SMA50': '-9.16%',\n 'SMA200': '-23.96%',\n 'Volume': '10,589,203',\n 'Change': '-0.44%'}"
          },
          "metadata": {}
        }
      ],
      "execution_count": 3,
      "metadata": {
        "collapsed": true,
        "jupyter": {
          "source_hidden": false,
          "outputs_hidden": false
        },
        "nteract": {
          "transient": {
            "deleting": false
          }
        },
        "execution": {
          "shell.execute_reply": "2022-10-20T00:26:56.691Z",
          "iopub.status.busy": "2022-10-20T00:26:57.134Z",
          "iopub.execute_input": "2022-10-20T00:26:57.145Z",
          "iopub.status.idle": "2022-10-20T00:26:57.161Z"
        }
      }
    },
    {
      "cell_type": "code",
      "source": [
        "rivn.ticker_description()"
      ],
      "outputs": [
        {
          "output_type": "execute_result",
          "execution_count": 4,
          "data": {
            "text/plain": "'Rivian Automotive, Inc. designs, develops, manufactures, and sells electric vehicles and accessories. The company offers five-passenger pickup trucks and sports utility vehicles. It provides Rivian Commercial Vehicle platform for electric Delivery Van with collaboration with Amazon.com. The company sells its products directly to customers in the consumer and commercial markets. Rivian Automotive, Inc. was founded in 2009 and is based in San Jose, California.'"
          },
          "metadata": {}
        }
      ],
      "execution_count": 4,
      "metadata": {
        "collapsed": true,
        "jupyter": {
          "source_hidden": false,
          "outputs_hidden": false
        },
        "nteract": {
          "transient": {
            "deleting": false
          }
        },
        "execution": {
          "shell.execute_reply": "2022-10-20T00:26:56.700Z",
          "iopub.status.busy": "2022-10-20T00:26:57.175Z",
          "iopub.execute_input": "2022-10-20T00:26:57.185Z",
          "iopub.status.idle": "2022-10-20T00:26:57.202Z"
        }
      }
    },
    {
      "cell_type": "code",
      "source": [
        "rivn.ticker_outer_ratings()"
      ],
      "outputs": [
        {
          "output_type": "execute_result",
          "execution_count": 5,
          "data": {
            "text/plain": "         Date      Status              Outer                  Rating  \\\n0  2022-09-29   Initiated             Truist                     Buy   \n1  2022-09-28  Reiterated   RBC Capital Mkts              Outperform   \n2  2022-09-15   Initiated            Needham                    Hold   \n3  2022-07-13   Initiated  Canaccord Genuity                     Buy   \n4  2022-06-02   Initiated        DA Davidson            Underperform   \n5  2022-05-12     Upgrade  Exane BNP Paribas  Underperform → Neutral   \n6  2022-04-11   Initiated  Exane BNP Paribas            Underperform   \n7  2022-03-04  Reiterated    Robert W. Baird              Outperform   \n8  2022-03-02  Reiterated   RBC Capital Mkts              Outperform   \n9  2022-01-11   Initiated            Redburn                     Buy   \n10 2021-12-10   Initiated  Tigress Financial                     Buy   \n11 2021-12-06   Initiated     Wolfe Research              Outperform   \n12 2021-12-06   Initiated        Wells Fargo            Equal Weight   \n13 2021-12-06   Initiated            Wedbush              Outperform   \n14 2021-12-06   Initiated    Robert W. Baird              Outperform   \n15 2021-12-06   Initiated   RBC Capital Mkts              Outperform   \n16 2021-12-06   Initiated      Piper Sandler              Overweight   \n17 2021-12-06   Initiated     Morgan Stanley              Overweight   \n18 2021-12-06   Initiated             Mizuho                     Buy   \n19 2021-12-06   Initiated          JP Morgan                 Neutral   \n\n          Price  \n0           $65  \n1     $75 → $62  \n2                \n3           $61  \n4           $24  \n5           $26  \n6           $35  \n7   $150 → $100  \n8   $165 → $116  \n9                \n10         $147  \n11         $130  \n12         $110  \n13         $130  \n14         $150  \n15         $165  \n16         $148  \n17         $147  \n18         $145  \n19         $104  ",
            "text/html": "<div>\n<style scoped>\n    .dataframe tbody tr th:only-of-type {\n        vertical-align: middle;\n    }\n\n    .dataframe tbody tr th {\n        vertical-align: top;\n    }\n\n    .dataframe thead th {\n        text-align: right;\n    }\n</style>\n<table border=\"1\" class=\"dataframe\">\n  <thead>\n    <tr style=\"text-align: right;\">\n      <th></th>\n      <th>Date</th>\n      <th>Status</th>\n      <th>Outer</th>\n      <th>Rating</th>\n      <th>Price</th>\n    </tr>\n  </thead>\n  <tbody>\n    <tr>\n      <th>0</th>\n      <td>2022-09-29</td>\n      <td>Initiated</td>\n      <td>Truist</td>\n      <td>Buy</td>\n      <td>$65</td>\n    </tr>\n    <tr>\n      <th>1</th>\n      <td>2022-09-28</td>\n      <td>Reiterated</td>\n      <td>RBC Capital Mkts</td>\n      <td>Outperform</td>\n      <td>$75 → $62</td>\n    </tr>\n    <tr>\n      <th>2</th>\n      <td>2022-09-15</td>\n      <td>Initiated</td>\n      <td>Needham</td>\n      <td>Hold</td>\n      <td></td>\n    </tr>\n    <tr>\n      <th>3</th>\n      <td>2022-07-13</td>\n      <td>Initiated</td>\n      <td>Canaccord Genuity</td>\n      <td>Buy</td>\n      <td>$61</td>\n    </tr>\n    <tr>\n      <th>4</th>\n      <td>2022-06-02</td>\n      <td>Initiated</td>\n      <td>DA Davidson</td>\n      <td>Underperform</td>\n      <td>$24</td>\n    </tr>\n    <tr>\n      <th>5</th>\n      <td>2022-05-12</td>\n      <td>Upgrade</td>\n      <td>Exane BNP Paribas</td>\n      <td>Underperform → Neutral</td>\n      <td>$26</td>\n    </tr>\n    <tr>\n      <th>6</th>\n      <td>2022-04-11</td>\n      <td>Initiated</td>\n      <td>Exane BNP Paribas</td>\n      <td>Underperform</td>\n      <td>$35</td>\n    </tr>\n    <tr>\n      <th>7</th>\n      <td>2022-03-04</td>\n      <td>Reiterated</td>\n      <td>Robert W. Baird</td>\n      <td>Outperform</td>\n      <td>$150 → $100</td>\n    </tr>\n    <tr>\n      <th>8</th>\n      <td>2022-03-02</td>\n      <td>Reiterated</td>\n      <td>RBC Capital Mkts</td>\n      <td>Outperform</td>\n      <td>$165 → $116</td>\n    </tr>\n    <tr>\n      <th>9</th>\n      <td>2022-01-11</td>\n      <td>Initiated</td>\n      <td>Redburn</td>\n      <td>Buy</td>\n      <td></td>\n    </tr>\n    <tr>\n      <th>10</th>\n      <td>2021-12-10</td>\n      <td>Initiated</td>\n      <td>Tigress Financial</td>\n      <td>Buy</td>\n      <td>$147</td>\n    </tr>\n    <tr>\n      <th>11</th>\n      <td>2021-12-06</td>\n      <td>Initiated</td>\n      <td>Wolfe Research</td>\n      <td>Outperform</td>\n      <td>$130</td>\n    </tr>\n    <tr>\n      <th>12</th>\n      <td>2021-12-06</td>\n      <td>Initiated</td>\n      <td>Wells Fargo</td>\n      <td>Equal Weight</td>\n      <td>$110</td>\n    </tr>\n    <tr>\n      <th>13</th>\n      <td>2021-12-06</td>\n      <td>Initiated</td>\n      <td>Wedbush</td>\n      <td>Outperform</td>\n      <td>$130</td>\n    </tr>\n    <tr>\n      <th>14</th>\n      <td>2021-12-06</td>\n      <td>Initiated</td>\n      <td>Robert W. Baird</td>\n      <td>Outperform</td>\n      <td>$150</td>\n    </tr>\n    <tr>\n      <th>15</th>\n      <td>2021-12-06</td>\n      <td>Initiated</td>\n      <td>RBC Capital Mkts</td>\n      <td>Outperform</td>\n      <td>$165</td>\n    </tr>\n    <tr>\n      <th>16</th>\n      <td>2021-12-06</td>\n      <td>Initiated</td>\n      <td>Piper Sandler</td>\n      <td>Overweight</td>\n      <td>$148</td>\n    </tr>\n    <tr>\n      <th>17</th>\n      <td>2021-12-06</td>\n      <td>Initiated</td>\n      <td>Morgan Stanley</td>\n      <td>Overweight</td>\n      <td>$147</td>\n    </tr>\n    <tr>\n      <th>18</th>\n      <td>2021-12-06</td>\n      <td>Initiated</td>\n      <td>Mizuho</td>\n      <td>Buy</td>\n      <td>$145</td>\n    </tr>\n    <tr>\n      <th>19</th>\n      <td>2021-12-06</td>\n      <td>Initiated</td>\n      <td>JP Morgan</td>\n      <td>Neutral</td>\n      <td>$104</td>\n    </tr>\n  </tbody>\n</table>\n</div>"
          },
          "metadata": {}
        }
      ],
      "execution_count": 5,
      "metadata": {
        "collapsed": true,
        "jupyter": {
          "source_hidden": false,
          "outputs_hidden": false
        },
        "nteract": {
          "transient": {
            "deleting": false
          }
        },
        "execution": {
          "shell.execute_reply": "2022-10-20T00:26:56.710Z",
          "iopub.status.busy": "2022-10-20T00:26:57.216Z",
          "iopub.execute_input": "2022-10-20T00:26:57.226Z",
          "iopub.status.idle": "2022-10-20T00:26:57.243Z"
        }
      }
    },
    {
      "cell_type": "code",
      "source": [
        "rivn.ticker_inside_trader()"
      ],
      "outputs": [
        {
          "output_type": "execute_result",
          "execution_count": 6,
          "data": {
            "text/plain": "            Insider Trading              Relationship    Date Transaction  \\\n0                Baker Jeff  Chief Accounting Officer  Aug 15        Sale   \n1             FLATLEY JAY T                  Director  May 26         Buy   \n2                Behl Jiten      Chief Growth Officer  May 17        Sale   \n3         Scaringe Robert J   Chief Executive Officer  May 16         Buy   \n4                Behl Jiten      Chief Growth Officer  May 16        Sale   \n5                Baker Jeff  Chief Accounting Officer  May 16        Sale   \n6             FORD MOTOR CO                 10% Owner  May 13        Sale   \n7             FORD MOTOR CO                 10% Owner  May 09        Sale   \n8      Thomas-Graham Pamela                  Director  Nov 15         Buy   \n9           MARCARIO ROSE M                  Director  Nov 15         Buy   \n10               Baker Jeff  Chief Accounting Officer  Nov 15         Buy   \n11        Scaringe Robert J   Chief Executive Officer  Nov 15         Buy   \n12            FLATLEY JAY T                  Director  Nov 15         Buy   \n13         McDonough Claire   Chief Financial Officer  Nov 15         Buy   \n14              Boone Karen                  Director  Nov 15         Buy   \n15  Schwartz Sanford Harold                  Director  Nov 15         Buy   \n16               Behl Jiten      Chief Growth Officer  Nov 15         Buy   \n17            Krawiec Peter                  Director  Nov 15         Buy   \n\n     Cost    #Shares    Value ($)  #Shares Total       SEC Form 4  \\\n0   37.27     1753.0      65342.0        79666.0  Aug 17 04:35 PM   \n1   29.31    40000.0    1172400.0        92616.0  May 31 05:36 PM   \n2   25.83     1608.0      41535.0        25900.0  May 18 07:03 PM   \n3   25.78    41000.0    1056865.0       169175.0  May 16 04:13 PM   \n4   25.56      892.0      22801.0        27508.0  May 18 07:03 PM   \n5   25.56     6034.0     154234.0        80778.0  May 18 07:04 PM   \n6   26.88  7000000.0  188165600.0     86947494.0  May 13 08:48 PM   \n7   26.80  8000000.0  214400000.0     93947494.0  May 10 08:48 PM   \n8   78.00    12821.0    1000038.0        20612.0  Nov 17 08:07 PM   \n9   78.00    12000.0     936000.0        44616.0  Nov 17 07:55 PM   \n10  78.00    20000.0    1560000.0        86812.0  Nov 17 07:51 PM   \n11  78.00   128175.0    9997650.0       128175.0  Nov 17 07:49 PM   \n12  78.00    20000.0    1560000.0        52616.0  Nov 17 07:47 PM   \n13  78.00     2450.0     191100.0         2450.0  Nov 17 07:46 PM   \n14  78.00    20000.0    1560000.0        20209.0  Nov 17 07:46 PM   \n15  78.00     8500.0     663000.0       106157.0  Nov 17 07:44 PM   \n16  78.00     8400.0     655200.0        28400.0  Nov 17 07:43 PM   \n17  78.00     3590.0     280020.0         3590.0  Nov 17 07:42 PM   \n\n                                      SEC Form 4 Link Insider_id  \n0   http://www.sec.gov/Archives/edgar/data/1699866...    1699866  \n1   http://www.sec.gov/Archives/edgar/data/1189130...    1189130  \n2   http://www.sec.gov/Archives/edgar/data/1874178...    1891532  \n3   http://www.sec.gov/Archives/edgar/data/1874178...    1891517  \n4   http://www.sec.gov/Archives/edgar/data/1874178...    1891532  \n5   http://www.sec.gov/Archives/edgar/data/1699866...    1699866  \n6   http://www.sec.gov/Archives/edgar/data/37996/0...      37996  \n7   http://www.sec.gov/Archives/edgar/data/37996/0...      37996  \n8   http://www.sec.gov/Archives/edgar/data/1327431...    1327431  \n9   http://www.sec.gov/Archives/edgar/data/1253620...    1253620  \n10  http://www.sec.gov/Archives/edgar/data/1699866...    1699866  \n11  http://www.sec.gov/Archives/edgar/data/1874178...    1891517  \n12  http://www.sec.gov/Archives/edgar/data/1189130...    1189130  \n13  http://www.sec.gov/Archives/edgar/data/1874178...    1890925  \n14  http://www.sec.gov/Archives/edgar/data/1561290...    1561290  \n15  http://www.sec.gov/Archives/edgar/data/1874178...    1891751  \n16  http://www.sec.gov/Archives/edgar/data/1874178...    1891532  \n17  http://www.sec.gov/Archives/edgar/data/1874178...    1891037  ",
            "text/html": "<div>\n<style scoped>\n    .dataframe tbody tr th:only-of-type {\n        vertical-align: middle;\n    }\n\n    .dataframe tbody tr th {\n        vertical-align: top;\n    }\n\n    .dataframe thead th {\n        text-align: right;\n    }\n</style>\n<table border=\"1\" class=\"dataframe\">\n  <thead>\n    <tr style=\"text-align: right;\">\n      <th></th>\n      <th>Insider Trading</th>\n      <th>Relationship</th>\n      <th>Date</th>\n      <th>Transaction</th>\n      <th>Cost</th>\n      <th>#Shares</th>\n      <th>Value ($)</th>\n      <th>#Shares Total</th>\n      <th>SEC Form 4</th>\n      <th>SEC Form 4 Link</th>\n      <th>Insider_id</th>\n    </tr>\n  </thead>\n  <tbody>\n    <tr>\n      <th>0</th>\n      <td>Baker Jeff</td>\n      <td>Chief Accounting Officer</td>\n      <td>Aug 15</td>\n      <td>Sale</td>\n      <td>37.27</td>\n      <td>1753.0</td>\n      <td>65342.0</td>\n      <td>79666.0</td>\n      <td>Aug 17 04:35 PM</td>\n      <td>http://www.sec.gov/Archives/edgar/data/1699866...</td>\n      <td>1699866</td>\n    </tr>\n    <tr>\n      <th>1</th>\n      <td>FLATLEY JAY T</td>\n      <td>Director</td>\n      <td>May 26</td>\n      <td>Buy</td>\n      <td>29.31</td>\n      <td>40000.0</td>\n      <td>1172400.0</td>\n      <td>92616.0</td>\n      <td>May 31 05:36 PM</td>\n      <td>http://www.sec.gov/Archives/edgar/data/1189130...</td>\n      <td>1189130</td>\n    </tr>\n    <tr>\n      <th>2</th>\n      <td>Behl Jiten</td>\n      <td>Chief Growth Officer</td>\n      <td>May 17</td>\n      <td>Sale</td>\n      <td>25.83</td>\n      <td>1608.0</td>\n      <td>41535.0</td>\n      <td>25900.0</td>\n      <td>May 18 07:03 PM</td>\n      <td>http://www.sec.gov/Archives/edgar/data/1874178...</td>\n      <td>1891532</td>\n    </tr>\n    <tr>\n      <th>3</th>\n      <td>Scaringe Robert J</td>\n      <td>Chief Executive Officer</td>\n      <td>May 16</td>\n      <td>Buy</td>\n      <td>25.78</td>\n      <td>41000.0</td>\n      <td>1056865.0</td>\n      <td>169175.0</td>\n      <td>May 16 04:13 PM</td>\n      <td>http://www.sec.gov/Archives/edgar/data/1874178...</td>\n      <td>1891517</td>\n    </tr>\n    <tr>\n      <th>4</th>\n      <td>Behl Jiten</td>\n      <td>Chief Growth Officer</td>\n      <td>May 16</td>\n      <td>Sale</td>\n      <td>25.56</td>\n      <td>892.0</td>\n      <td>22801.0</td>\n      <td>27508.0</td>\n      <td>May 18 07:03 PM</td>\n      <td>http://www.sec.gov/Archives/edgar/data/1874178...</td>\n      <td>1891532</td>\n    </tr>\n    <tr>\n      <th>5</th>\n      <td>Baker Jeff</td>\n      <td>Chief Accounting Officer</td>\n      <td>May 16</td>\n      <td>Sale</td>\n      <td>25.56</td>\n      <td>6034.0</td>\n      <td>154234.0</td>\n      <td>80778.0</td>\n      <td>May 18 07:04 PM</td>\n      <td>http://www.sec.gov/Archives/edgar/data/1699866...</td>\n      <td>1699866</td>\n    </tr>\n    <tr>\n      <th>6</th>\n      <td>FORD MOTOR CO</td>\n      <td>10% Owner</td>\n      <td>May 13</td>\n      <td>Sale</td>\n      <td>26.88</td>\n      <td>7000000.0</td>\n      <td>188165600.0</td>\n      <td>86947494.0</td>\n      <td>May 13 08:48 PM</td>\n      <td>http://www.sec.gov/Archives/edgar/data/37996/0...</td>\n      <td>37996</td>\n    </tr>\n    <tr>\n      <th>7</th>\n      <td>FORD MOTOR CO</td>\n      <td>10% Owner</td>\n      <td>May 09</td>\n      <td>Sale</td>\n      <td>26.80</td>\n      <td>8000000.0</td>\n      <td>214400000.0</td>\n      <td>93947494.0</td>\n      <td>May 10 08:48 PM</td>\n      <td>http://www.sec.gov/Archives/edgar/data/37996/0...</td>\n      <td>37996</td>\n    </tr>\n    <tr>\n      <th>8</th>\n      <td>Thomas-Graham Pamela</td>\n      <td>Director</td>\n      <td>Nov 15</td>\n      <td>Buy</td>\n      <td>78.00</td>\n      <td>12821.0</td>\n      <td>1000038.0</td>\n      <td>20612.0</td>\n      <td>Nov 17 08:07 PM</td>\n      <td>http://www.sec.gov/Archives/edgar/data/1327431...</td>\n      <td>1327431</td>\n    </tr>\n    <tr>\n      <th>9</th>\n      <td>MARCARIO ROSE M</td>\n      <td>Director</td>\n      <td>Nov 15</td>\n      <td>Buy</td>\n      <td>78.00</td>\n      <td>12000.0</td>\n      <td>936000.0</td>\n      <td>44616.0</td>\n      <td>Nov 17 07:55 PM</td>\n      <td>http://www.sec.gov/Archives/edgar/data/1253620...</td>\n      <td>1253620</td>\n    </tr>\n    <tr>\n      <th>10</th>\n      <td>Baker Jeff</td>\n      <td>Chief Accounting Officer</td>\n      <td>Nov 15</td>\n      <td>Buy</td>\n      <td>78.00</td>\n      <td>20000.0</td>\n      <td>1560000.0</td>\n      <td>86812.0</td>\n      <td>Nov 17 07:51 PM</td>\n      <td>http://www.sec.gov/Archives/edgar/data/1699866...</td>\n      <td>1699866</td>\n    </tr>\n    <tr>\n      <th>11</th>\n      <td>Scaringe Robert J</td>\n      <td>Chief Executive Officer</td>\n      <td>Nov 15</td>\n      <td>Buy</td>\n      <td>78.00</td>\n      <td>128175.0</td>\n      <td>9997650.0</td>\n      <td>128175.0</td>\n      <td>Nov 17 07:49 PM</td>\n      <td>http://www.sec.gov/Archives/edgar/data/1874178...</td>\n      <td>1891517</td>\n    </tr>\n    <tr>\n      <th>12</th>\n      <td>FLATLEY JAY T</td>\n      <td>Director</td>\n      <td>Nov 15</td>\n      <td>Buy</td>\n      <td>78.00</td>\n      <td>20000.0</td>\n      <td>1560000.0</td>\n      <td>52616.0</td>\n      <td>Nov 17 07:47 PM</td>\n      <td>http://www.sec.gov/Archives/edgar/data/1189130...</td>\n      <td>1189130</td>\n    </tr>\n    <tr>\n      <th>13</th>\n      <td>McDonough Claire</td>\n      <td>Chief Financial Officer</td>\n      <td>Nov 15</td>\n      <td>Buy</td>\n      <td>78.00</td>\n      <td>2450.0</td>\n      <td>191100.0</td>\n      <td>2450.0</td>\n      <td>Nov 17 07:46 PM</td>\n      <td>http://www.sec.gov/Archives/edgar/data/1874178...</td>\n      <td>1890925</td>\n    </tr>\n    <tr>\n      <th>14</th>\n      <td>Boone Karen</td>\n      <td>Director</td>\n      <td>Nov 15</td>\n      <td>Buy</td>\n      <td>78.00</td>\n      <td>20000.0</td>\n      <td>1560000.0</td>\n      <td>20209.0</td>\n      <td>Nov 17 07:46 PM</td>\n      <td>http://www.sec.gov/Archives/edgar/data/1561290...</td>\n      <td>1561290</td>\n    </tr>\n    <tr>\n      <th>15</th>\n      <td>Schwartz Sanford Harold</td>\n      <td>Director</td>\n      <td>Nov 15</td>\n      <td>Buy</td>\n      <td>78.00</td>\n      <td>8500.0</td>\n      <td>663000.0</td>\n      <td>106157.0</td>\n      <td>Nov 17 07:44 PM</td>\n      <td>http://www.sec.gov/Archives/edgar/data/1874178...</td>\n      <td>1891751</td>\n    </tr>\n    <tr>\n      <th>16</th>\n      <td>Behl Jiten</td>\n      <td>Chief Growth Officer</td>\n      <td>Nov 15</td>\n      <td>Buy</td>\n      <td>78.00</td>\n      <td>8400.0</td>\n      <td>655200.0</td>\n      <td>28400.0</td>\n      <td>Nov 17 07:43 PM</td>\n      <td>http://www.sec.gov/Archives/edgar/data/1874178...</td>\n      <td>1891532</td>\n    </tr>\n    <tr>\n      <th>17</th>\n      <td>Krawiec Peter</td>\n      <td>Director</td>\n      <td>Nov 15</td>\n      <td>Buy</td>\n      <td>78.00</td>\n      <td>3590.0</td>\n      <td>280020.0</td>\n      <td>3590.0</td>\n      <td>Nov 17 07:42 PM</td>\n      <td>http://www.sec.gov/Archives/edgar/data/1874178...</td>\n      <td>1891037</td>\n    </tr>\n  </tbody>\n</table>\n</div>"
          },
          "metadata": {}
        }
      ],
      "execution_count": 6,
      "metadata": {
        "collapsed": true,
        "jupyter": {
          "source_hidden": false,
          "outputs_hidden": false
        },
        "nteract": {
          "transient": {
            "deleting": false
          }
        },
        "execution": {
          "shell.execute_reply": "2022-10-20T00:26:56.718Z",
          "iopub.status.busy": "2022-10-20T00:26:57.257Z",
          "iopub.execute_input": "2022-10-20T00:26:57.266Z",
          "iopub.status.idle": "2022-10-20T00:26:57.282Z"
        }
      }
    },
    {
      "cell_type": "markdown",
      "source": [
        "## LCID"
      ],
      "metadata": {
        "nteract": {
          "transient": {
            "deleting": false
          }
        }
      }
    },
    {
      "cell_type": "code",
      "source": [
        "lcid = finvizfinance('lcid')"
      ],
      "outputs": [],
      "execution_count": 7,
      "metadata": {
        "collapsed": true,
        "jupyter": {
          "source_hidden": false,
          "outputs_hidden": false
        },
        "nteract": {
          "transient": {
            "deleting": false
          }
        },
        "execution": {
          "shell.execute_reply": "2022-10-20T00:26:56.729Z",
          "iopub.status.busy": "2022-10-20T00:26:57.296Z",
          "iopub.execute_input": "2022-10-20T00:26:57.304Z",
          "iopub.status.idle": "2022-10-20T00:26:57.315Z"
        }
      }
    },
    {
      "cell_type": "code",
      "source": [
        "lcid.ticker_fundament()"
      ],
      "outputs": [
        {
          "output_type": "execute_result",
          "execution_count": 8,
          "data": {
            "text/plain": "{'Company': 'Lucid Group, Inc.',\n 'Sector': 'Consumer Cyclical',\n 'Industry': 'Auto Manufacturers',\n 'Country': 'USA',\n 'Index': '-',\n 'P/E': '-',\n 'EPS (ttm)': '-1.15',\n 'Insider Own': '1.70%',\n 'Shs Outstand': '1.67B',\n 'Perf Week': '-3.44%',\n 'Market Cap': '23.14B',\n 'Forward P/E': '-',\n 'EPS next Y': '-1.06',\n 'Insider Trans': '0.00%',\n 'Shs Float': '1.60B',\n 'Perf Month': '-17.60%',\n 'Income': '-1871.80M',\n 'PEG': '-',\n 'EPS next Q': '-0.31',\n 'Inst Own': '71.70%',\n 'Short Float': '7.96%',\n 'Perf Quarter': '-41.15%',\n 'Sales': '181.60M',\n 'P/S': '127.40',\n 'EPS this Y': '-572.80%',\n 'Inst Trans': '0.02%',\n 'Short Ratio': '7.19',\n 'Perf Half Y': '-39.43%',\n 'Book/sh': '2.22',\n 'P/B': '5.69',\n 'EPS next Y Percentage': '9.40%',\n 'ROA': '-26.20%',\n 'Target Price': '23.89',\n 'Perf Year': '-48.89%',\n 'Cash/sh': '2.35',\n 'P/C': '5.39',\n 'EPS next 5Y': '-',\n 'ROE': '-45.90%',\n '52W Range From': '11.87',\n '52W Range To': '57.75',\n 'Perf YTD': '-66.78%',\n 'Dividend': '-',\n 'P/FCF': '-',\n 'EPS past 5Y': '-',\n 'ROI': '-25.90%',\n '52W High': '-78.11%',\n 'Beta': '-',\n 'Dividend %': '-',\n 'Quick Ratio': '6.70',\n 'Sales past 5Y': '-',\n 'Gross Margin': '-',\n '52W Low': '6.49%',\n 'ATR': '0.98',\n 'Employees': '3900',\n 'Current Ratio': '7.60',\n 'Sales Q/Q': '55840.20%',\n 'Oper. Margin': '-',\n 'RSI (14)': '40.14',\n 'Volatility W': '6.41%',\n 'Volatility M': '6.64%',\n 'Optionable': 'Yes',\n 'Debt/Eq': '0.54',\n 'EPS Q/Q': '18.30%',\n 'Profit Margin': '-',\n 'Rel Volume': '0.65',\n 'Prev Close': '13.01',\n 'Shortable': 'Yes',\n 'LT Debt/Eq': '0.54',\n 'Earnings': 'Nov 08 AMC',\n 'Payout': '-',\n 'Avg Volume': '17.73M',\n 'Price': '12.64',\n 'Recom': '2.50',\n 'SMA20': '-8.52%',\n 'SMA50': '-18.08%',\n 'SMA200': '-41.13%',\n 'Volume': '11,551,294',\n 'Change': '-2.84%'}"
          },
          "metadata": {}
        }
      ],
      "execution_count": 8,
      "metadata": {
        "collapsed": true,
        "jupyter": {
          "source_hidden": false,
          "outputs_hidden": false
        },
        "nteract": {
          "transient": {
            "deleting": false
          }
        },
        "execution": {
          "shell.execute_reply": "2022-10-20T00:26:56.740Z",
          "iopub.status.busy": "2022-10-20T00:26:57.328Z",
          "iopub.execute_input": "2022-10-20T00:26:57.337Z",
          "iopub.status.idle": "2022-10-20T00:26:57.353Z"
        }
      }
    },
    {
      "cell_type": "code",
      "source": [
        "lcid.ticker_description()"
      ],
      "outputs": [
        {
          "output_type": "execute_result",
          "execution_count": 9,
          "data": {
            "text/plain": "'Lucid Group, Inc. a technology and automotive company, develops electric vehicle (EV) technologies. The company designs, engineers, and builds electric vehicles, EV powertrains, and battery systems. As of December 31, 2021, it operates twenty retail studios in the United States. Lucid Group, Inc. was founded in 2007 and is headquartered in Newark, California.'"
          },
          "metadata": {}
        }
      ],
      "execution_count": 9,
      "metadata": {
        "collapsed": true,
        "jupyter": {
          "source_hidden": false,
          "outputs_hidden": false
        },
        "nteract": {
          "transient": {
            "deleting": false
          }
        },
        "execution": {
          "shell.execute_reply": "2022-10-20T00:26:56.749Z",
          "iopub.status.busy": "2022-10-20T00:26:57.366Z",
          "iopub.execute_input": "2022-10-20T00:26:57.375Z",
          "iopub.status.idle": "2022-10-20T00:26:57.391Z"
        }
      }
    },
    {
      "cell_type": "code",
      "source": [
        "lcid.ticker_outer_ratings()"
      ],
      "outputs": [
        {
          "output_type": "execute_result",
          "execution_count": 10,
          "data": {
            "text/plain": "         Date     Status              Outer        Rating Price\n0  2022-09-27  Initiated  Cantor Fitzgerald    Overweight   $23\n1  2022-09-15    Resumed          Citigroup           Buy   $28\n2  2022-09-15  Initiated            Needham  Underperform      \n3  2022-09-12  Initiated     R. F. Lafferty           Buy   $19\n4  2022-04-11  Initiated  Exane BNP Paribas    Outperform   $45\n5  2022-01-11  Initiated            Redburn       Neutral      \n6  2021-12-30    Resumed          Citigroup           Buy   $57\n7  2021-12-20  Initiated         Guggenheim       Neutral   $38\n8  2021-11-08  Initiated      BTIG Research           Buy   $14\n9  2021-09-15  Initiated    BofA Securities           Buy   $30\n10 2021-09-14  Initiated     Morgan Stanley   Underweight   $12\n11 2021-09-09  Initiated          Citigroup           Buy   $28",
            "text/html": "<div>\n<style scoped>\n    .dataframe tbody tr th:only-of-type {\n        vertical-align: middle;\n    }\n\n    .dataframe tbody tr th {\n        vertical-align: top;\n    }\n\n    .dataframe thead th {\n        text-align: right;\n    }\n</style>\n<table border=\"1\" class=\"dataframe\">\n  <thead>\n    <tr style=\"text-align: right;\">\n      <th></th>\n      <th>Date</th>\n      <th>Status</th>\n      <th>Outer</th>\n      <th>Rating</th>\n      <th>Price</th>\n    </tr>\n  </thead>\n  <tbody>\n    <tr>\n      <th>0</th>\n      <td>2022-09-27</td>\n      <td>Initiated</td>\n      <td>Cantor Fitzgerald</td>\n      <td>Overweight</td>\n      <td>$23</td>\n    </tr>\n    <tr>\n      <th>1</th>\n      <td>2022-09-15</td>\n      <td>Resumed</td>\n      <td>Citigroup</td>\n      <td>Buy</td>\n      <td>$28</td>\n    </tr>\n    <tr>\n      <th>2</th>\n      <td>2022-09-15</td>\n      <td>Initiated</td>\n      <td>Needham</td>\n      <td>Underperform</td>\n      <td></td>\n    </tr>\n    <tr>\n      <th>3</th>\n      <td>2022-09-12</td>\n      <td>Initiated</td>\n      <td>R. F. Lafferty</td>\n      <td>Buy</td>\n      <td>$19</td>\n    </tr>\n    <tr>\n      <th>4</th>\n      <td>2022-04-11</td>\n      <td>Initiated</td>\n      <td>Exane BNP Paribas</td>\n      <td>Outperform</td>\n      <td>$45</td>\n    </tr>\n    <tr>\n      <th>5</th>\n      <td>2022-01-11</td>\n      <td>Initiated</td>\n      <td>Redburn</td>\n      <td>Neutral</td>\n      <td></td>\n    </tr>\n    <tr>\n      <th>6</th>\n      <td>2021-12-30</td>\n      <td>Resumed</td>\n      <td>Citigroup</td>\n      <td>Buy</td>\n      <td>$57</td>\n    </tr>\n    <tr>\n      <th>7</th>\n      <td>2021-12-20</td>\n      <td>Initiated</td>\n      <td>Guggenheim</td>\n      <td>Neutral</td>\n      <td>$38</td>\n    </tr>\n    <tr>\n      <th>8</th>\n      <td>2021-11-08</td>\n      <td>Initiated</td>\n      <td>BTIG Research</td>\n      <td>Buy</td>\n      <td>$14</td>\n    </tr>\n    <tr>\n      <th>9</th>\n      <td>2021-09-15</td>\n      <td>Initiated</td>\n      <td>BofA Securities</td>\n      <td>Buy</td>\n      <td>$30</td>\n    </tr>\n    <tr>\n      <th>10</th>\n      <td>2021-09-14</td>\n      <td>Initiated</td>\n      <td>Morgan Stanley</td>\n      <td>Underweight</td>\n      <td>$12</td>\n    </tr>\n    <tr>\n      <th>11</th>\n      <td>2021-09-09</td>\n      <td>Initiated</td>\n      <td>Citigroup</td>\n      <td>Buy</td>\n      <td>$28</td>\n    </tr>\n  </tbody>\n</table>\n</div>"
          },
          "metadata": {}
        }
      ],
      "execution_count": 10,
      "metadata": {
        "collapsed": true,
        "jupyter": {
          "source_hidden": false,
          "outputs_hidden": false
        },
        "nteract": {
          "transient": {
            "deleting": false
          }
        },
        "execution": {
          "shell.execute_reply": "2022-10-20T00:26:56.759Z",
          "iopub.status.busy": "2022-10-20T00:26:57.404Z",
          "iopub.execute_input": "2022-10-20T00:26:57.412Z",
          "iopub.status.idle": "2022-10-20T00:26:57.428Z"
        }
      }
    },
    {
      "cell_type": "code",
      "source": [
        "lcid.ticker_inside_trader()"
      ],
      "outputs": [
        {
          "output_type": "execute_result",
          "execution_count": 11,
          "data": {
            "text/plain": "        Insider Trading                    Relationship    Date  \\\n0  Rawlinson Peter Dore  CEO & Chief Technology Officer  Dec 15   \n1  Rawlinson Peter Dore  CEO & Chief Technology Officer  Dec 14   \n\n       Transaction  Cost   #Shares  Value ($)  #Shares Total       SEC Form 4  \\\n0  Option Exercise  0.37   21000.0     7770.0     30159289.0  Dec 16 08:27 PM   \n1  Option Exercise  0.24  386756.0    93366.0     30138289.0  Dec 16 08:27 PM   \n\n                                     SEC Form 4 Link Insider_id  \n0  http://www.sec.gov/Archives/edgar/data/1811210...    1873374  \n1  http://www.sec.gov/Archives/edgar/data/1811210...    1873374  ",
            "text/html": "<div>\n<style scoped>\n    .dataframe tbody tr th:only-of-type {\n        vertical-align: middle;\n    }\n\n    .dataframe tbody tr th {\n        vertical-align: top;\n    }\n\n    .dataframe thead th {\n        text-align: right;\n    }\n</style>\n<table border=\"1\" class=\"dataframe\">\n  <thead>\n    <tr style=\"text-align: right;\">\n      <th></th>\n      <th>Insider Trading</th>\n      <th>Relationship</th>\n      <th>Date</th>\n      <th>Transaction</th>\n      <th>Cost</th>\n      <th>#Shares</th>\n      <th>Value ($)</th>\n      <th>#Shares Total</th>\n      <th>SEC Form 4</th>\n      <th>SEC Form 4 Link</th>\n      <th>Insider_id</th>\n    </tr>\n  </thead>\n  <tbody>\n    <tr>\n      <th>0</th>\n      <td>Rawlinson Peter Dore</td>\n      <td>CEO &amp; Chief Technology Officer</td>\n      <td>Dec 15</td>\n      <td>Option Exercise</td>\n      <td>0.37</td>\n      <td>21000.0</td>\n      <td>7770.0</td>\n      <td>30159289.0</td>\n      <td>Dec 16 08:27 PM</td>\n      <td>http://www.sec.gov/Archives/edgar/data/1811210...</td>\n      <td>1873374</td>\n    </tr>\n    <tr>\n      <th>1</th>\n      <td>Rawlinson Peter Dore</td>\n      <td>CEO &amp; Chief Technology Officer</td>\n      <td>Dec 14</td>\n      <td>Option Exercise</td>\n      <td>0.24</td>\n      <td>386756.0</td>\n      <td>93366.0</td>\n      <td>30138289.0</td>\n      <td>Dec 16 08:27 PM</td>\n      <td>http://www.sec.gov/Archives/edgar/data/1811210...</td>\n      <td>1873374</td>\n    </tr>\n  </tbody>\n</table>\n</div>"
          },
          "metadata": {}
        }
      ],
      "execution_count": 11,
      "metadata": {
        "collapsed": true,
        "jupyter": {
          "source_hidden": false,
          "outputs_hidden": false
        },
        "nteract": {
          "transient": {
            "deleting": false
          }
        },
        "execution": {
          "shell.execute_reply": "2022-10-20T00:26:56.768Z",
          "iopub.status.busy": "2022-10-20T00:26:57.443Z",
          "iopub.execute_input": "2022-10-20T00:26:57.452Z",
          "iopub.status.idle": "2022-10-20T00:26:57.467Z"
        }
      }
    },
    {
      "cell_type": "markdown",
      "source": [
        "## GM"
      ],
      "metadata": {
        "nteract": {
          "transient": {
            "deleting": false
          }
        }
      }
    },
    {
      "cell_type": "code",
      "source": [
        "gm = finvizfinance('GM')"
      ],
      "outputs": [],
      "execution_count": 12,
      "metadata": {
        "collapsed": true,
        "jupyter": {
          "source_hidden": false,
          "outputs_hidden": false
        },
        "nteract": {
          "transient": {
            "deleting": false
          }
        },
        "execution": {
          "shell.execute_reply": "2022-10-20T00:26:56.782Z",
          "iopub.status.busy": "2022-10-20T00:26:57.482Z",
          "iopub.execute_input": "2022-10-20T00:26:57.491Z",
          "iopub.status.idle": "2022-10-20T00:26:57.502Z"
        }
      }
    },
    {
      "cell_type": "code",
      "source": [
        "gm.ticker_fundament()"
      ],
      "outputs": [
        {
          "output_type": "execute_result",
          "execution_count": 13,
          "data": {
            "text/plain": "{'Company': 'General Motors Company',\n 'Sector': 'Consumer Cyclical',\n 'Industry': 'Auto Manufacturers',\n 'Country': 'USA',\n 'Index': 'S&P 500',\n 'P/E': '6.39',\n 'EPS (ttm)': '5.26',\n 'Insider Own': '4.93%',\n 'Shs Outstand': '1.46B',\n 'Perf Week': '4.44%',\n 'Market Cap': '48.84B',\n 'Forward P/E': '5.39',\n 'EPS next Y': '6.24',\n 'Insider Trans': '0.01%',\n 'Shs Float': '1.39B',\n 'Perf Month': '-13.90%',\n 'Income': '7.72B',\n 'PEG': '0.41',\n 'EPS next Q': '1.89',\n 'Inst Own': '83.10%',\n 'Short Float': '1.75%',\n 'Perf Quarter': '-4.27%',\n 'Sales': '132.10B',\n 'P/S': '0.37',\n 'EPS this Y': '54.70%',\n 'Inst Trans': '-0.30%',\n 'Short Ratio': '1.68',\n 'Perf Half Y': '-19.39%',\n 'Book/sh': '43.86',\n 'P/B': '0.77',\n 'EPS next Y Percentage': '-8.19%',\n 'ROA': '3.10%',\n 'Target Price': '49.50',\n 'Perf Year': '-40.84%',\n 'Cash/sh': '18.48',\n 'P/C': '1.82',\n 'EPS next 5Y': '15.70%',\n 'ROE': '12.90%',\n '52W Range From': '30.33',\n '52W Range To': '67.21',\n 'Perf YTD': '-42.64%',\n 'Dividend': '0.36',\n 'P/FCF': '16.68',\n 'EPS past 5Y': '2.20%',\n 'ROI': '3.90%',\n '52W High': '-49.96%',\n 'Beta': '1.26',\n 'Dividend %': '1.07%',\n 'Quick Ratio': '0.90',\n 'Sales past 5Y': '-3.20%',\n 'Gross Margin': '12.80%',\n '52W Low': '10.88%',\n 'ATR': '1.48',\n 'Employees': '157000',\n 'Current Ratio': '1.10',\n 'Sales Q/Q': '4.70%',\n 'Oper. Margin': '5.70%',\n 'RSI (14)': '43.69',\n 'Volatility W': '3.18%',\n 'Volatility M': '3.88%',\n 'Optionable': 'Yes',\n 'Debt/Eq': '1.73',\n 'EPS Q/Q': '-40.20%',\n 'Profit Margin': '5.80%',\n 'Rel Volume': '0.71',\n 'Prev Close': '34.25',\n 'Shortable': 'Yes',\n 'LT Debt/Eq': '1.22',\n 'Earnings': 'Oct 25 BMO',\n 'Payout': '0.00%',\n 'Avg Volume': '14.52M',\n 'Price': '33.63',\n 'Recom': '2.00',\n 'SMA20': '-1.48%',\n 'SMA50': '-9.85%',\n 'SMA200': '-17.70%',\n 'Volume': '10,298,417',\n 'Change': '-1.81%'}"
          },
          "metadata": {}
        }
      ],
      "execution_count": 13,
      "metadata": {
        "collapsed": true,
        "jupyter": {
          "source_hidden": false,
          "outputs_hidden": false
        },
        "nteract": {
          "transient": {
            "deleting": false
          }
        },
        "execution": {
          "shell.execute_reply": "2022-10-20T00:26:56.823Z",
          "iopub.status.busy": "2022-10-20T00:26:57.515Z",
          "iopub.execute_input": "2022-10-20T00:26:57.524Z",
          "iopub.status.idle": "2022-10-20T00:26:57.539Z"
        }
      }
    },
    {
      "cell_type": "code",
      "source": [
        "gm.ticker_description()"
      ],
      "outputs": [
        {
          "output_type": "execute_result",
          "execution_count": 14,
          "data": {
            "text/plain": "'General Motors Company designs, builds, and sells trucks, crossovers, cars, and automobile parts and accessories in North America, the Asia Pacific, the Middle East, Africa, South America, the United States, and China. The company operates through GM North America, GM International, Cruise, and GM Financial segments. It markets its vehicles primarily under the Buick, Cadillac, Chevrolet, GMC, Holden, Baojun, and Wuling brand names. The company also sells trucks, crossovers, cars, and purpose-built vehicles to dealers for consumer retail sales, as well as to fleet customers, including daily rental car companies, commercial fleet customers, leasing companies, and governments. In addition, it offers safety and security services for retail and fleet customers, including automatic crash response, emergency services, roadside assistance, crisis assist, stolen vehicle assistance, and turn-by-turn navigation; and connected services comprising mobile applications for owners to remotely control their vehicles and electric vehicle owners to locate charging stations, on-demand vehicle diagnostics, smart driver, marketplace in-vehicle commerce, in-vehicle voice, voice assistant, navigation and app ecosystem, connected navigation, SiriusXM with 360L, and 4G LTE wireless connectivity, as well as develops and commercializes autonomous vehicle technology. Further, the company provides automotive financing and insurance services; and software-enabled services and subscriptions. General Motors Company was founded in 1908 and is headquartered in Detroit, Michigan.'"
          },
          "metadata": {}
        }
      ],
      "execution_count": 14,
      "metadata": {
        "collapsed": true,
        "jupyter": {
          "source_hidden": false,
          "outputs_hidden": false
        },
        "nteract": {
          "transient": {
            "deleting": false
          }
        },
        "execution": {
          "shell.execute_reply": "2022-10-20T00:26:56.836Z",
          "iopub.status.busy": "2022-10-20T00:26:57.552Z",
          "iopub.execute_input": "2022-10-20T00:26:57.560Z",
          "iopub.status.idle": "2022-10-20T00:26:57.575Z"
        }
      }
    },
    {
      "cell_type": "code",
      "source": [
        "gm.ticker_outer_ratings()"
      ],
      "outputs": [
        {
          "output_type": "execute_result",
          "execution_count": 15,
          "data": {
            "text/plain": "         Date      Status              Outer                     Rating  \\\n0  2022-10-10   Downgrade                UBS              Buy → Neutral   \n1  2022-07-18   Downgrade      Deutsche Bank                 Buy → Hold   \n2  2022-05-12   Downgrade        Wells Fargo   Overweight → Underweight   \n3  2022-05-10   Initiated          Berenberg                        Buy   \n4  2022-04-11   Initiated  Exane BNP Paribas                 Outperform   \n5  2022-02-09   Downgrade             Nomura              Buy → Neutral   \n6  2022-02-08   Downgrade     Morgan Stanley  Overweight → Equal-Weight   \n7  2022-02-02  Reiterated        Wells Fargo                 Overweight   \n8  2022-02-02  Reiterated   RBC Capital Mkts                 Outperform   \n9  2022-02-02  Reiterated      Credit Suisse                 Outperform   \n10 2022-02-02  Reiterated          Citigroup                        Buy   \n11 2021-12-30  Reiterated          Citigroup                        Buy   \n12 2021-12-16  Reiterated        Wells Fargo                 Overweight   \n13 2021-12-14   Downgrade   Daiwa Securities       Outperform → Neutral   \n14 2021-07-09   Initiated            Wedbush                 Outperform   \n15 2021-06-22  Reiterated           Barclays                 Overweight   \n16 2021-05-19   Initiated    Tudor Pickering                        Buy   \n17 2021-04-05   Initiated        Wells Fargo                 Overweight   \n18 2021-01-14     Upgrade              Argus                 Hold → Buy   \n19 2021-01-13     Upgrade             Nomura              Neutral → Buy   \n\n         Price  \n0    $56 → $38  \n1               \n2    $74 → $33  \n3          $55  \n4               \n5    $66 → $56  \n6    $75 → $55  \n7    $75 → $83  \n8    $74 → $85  \n9    $78 → $75  \n10  $96 → $100  \n11   $90 → $95  \n12   $67 → $74  \n13         $65  \n14         $85  \n15   $70 → $74  \n16         $76  \n17         $67  \n18         $56  \n19   $27 → $60  ",
            "text/html": "<div>\n<style scoped>\n    .dataframe tbody tr th:only-of-type {\n        vertical-align: middle;\n    }\n\n    .dataframe tbody tr th {\n        vertical-align: top;\n    }\n\n    .dataframe thead th {\n        text-align: right;\n    }\n</style>\n<table border=\"1\" class=\"dataframe\">\n  <thead>\n    <tr style=\"text-align: right;\">\n      <th></th>\n      <th>Date</th>\n      <th>Status</th>\n      <th>Outer</th>\n      <th>Rating</th>\n      <th>Price</th>\n    </tr>\n  </thead>\n  <tbody>\n    <tr>\n      <th>0</th>\n      <td>2022-10-10</td>\n      <td>Downgrade</td>\n      <td>UBS</td>\n      <td>Buy → Neutral</td>\n      <td>$56 → $38</td>\n    </tr>\n    <tr>\n      <th>1</th>\n      <td>2022-07-18</td>\n      <td>Downgrade</td>\n      <td>Deutsche Bank</td>\n      <td>Buy → Hold</td>\n      <td></td>\n    </tr>\n    <tr>\n      <th>2</th>\n      <td>2022-05-12</td>\n      <td>Downgrade</td>\n      <td>Wells Fargo</td>\n      <td>Overweight → Underweight</td>\n      <td>$74 → $33</td>\n    </tr>\n    <tr>\n      <th>3</th>\n      <td>2022-05-10</td>\n      <td>Initiated</td>\n      <td>Berenberg</td>\n      <td>Buy</td>\n      <td>$55</td>\n    </tr>\n    <tr>\n      <th>4</th>\n      <td>2022-04-11</td>\n      <td>Initiated</td>\n      <td>Exane BNP Paribas</td>\n      <td>Outperform</td>\n      <td></td>\n    </tr>\n    <tr>\n      <th>5</th>\n      <td>2022-02-09</td>\n      <td>Downgrade</td>\n      <td>Nomura</td>\n      <td>Buy → Neutral</td>\n      <td>$66 → $56</td>\n    </tr>\n    <tr>\n      <th>6</th>\n      <td>2022-02-08</td>\n      <td>Downgrade</td>\n      <td>Morgan Stanley</td>\n      <td>Overweight → Equal-Weight</td>\n      <td>$75 → $55</td>\n    </tr>\n    <tr>\n      <th>7</th>\n      <td>2022-02-02</td>\n      <td>Reiterated</td>\n      <td>Wells Fargo</td>\n      <td>Overweight</td>\n      <td>$75 → $83</td>\n    </tr>\n    <tr>\n      <th>8</th>\n      <td>2022-02-02</td>\n      <td>Reiterated</td>\n      <td>RBC Capital Mkts</td>\n      <td>Outperform</td>\n      <td>$74 → $85</td>\n    </tr>\n    <tr>\n      <th>9</th>\n      <td>2022-02-02</td>\n      <td>Reiterated</td>\n      <td>Credit Suisse</td>\n      <td>Outperform</td>\n      <td>$78 → $75</td>\n    </tr>\n    <tr>\n      <th>10</th>\n      <td>2022-02-02</td>\n      <td>Reiterated</td>\n      <td>Citigroup</td>\n      <td>Buy</td>\n      <td>$96 → $100</td>\n    </tr>\n    <tr>\n      <th>11</th>\n      <td>2021-12-30</td>\n      <td>Reiterated</td>\n      <td>Citigroup</td>\n      <td>Buy</td>\n      <td>$90 → $95</td>\n    </tr>\n    <tr>\n      <th>12</th>\n      <td>2021-12-16</td>\n      <td>Reiterated</td>\n      <td>Wells Fargo</td>\n      <td>Overweight</td>\n      <td>$67 → $74</td>\n    </tr>\n    <tr>\n      <th>13</th>\n      <td>2021-12-14</td>\n      <td>Downgrade</td>\n      <td>Daiwa Securities</td>\n      <td>Outperform → Neutral</td>\n      <td>$65</td>\n    </tr>\n    <tr>\n      <th>14</th>\n      <td>2021-07-09</td>\n      <td>Initiated</td>\n      <td>Wedbush</td>\n      <td>Outperform</td>\n      <td>$85</td>\n    </tr>\n    <tr>\n      <th>15</th>\n      <td>2021-06-22</td>\n      <td>Reiterated</td>\n      <td>Barclays</td>\n      <td>Overweight</td>\n      <td>$70 → $74</td>\n    </tr>\n    <tr>\n      <th>16</th>\n      <td>2021-05-19</td>\n      <td>Initiated</td>\n      <td>Tudor Pickering</td>\n      <td>Buy</td>\n      <td>$76</td>\n    </tr>\n    <tr>\n      <th>17</th>\n      <td>2021-04-05</td>\n      <td>Initiated</td>\n      <td>Wells Fargo</td>\n      <td>Overweight</td>\n      <td>$67</td>\n    </tr>\n    <tr>\n      <th>18</th>\n      <td>2021-01-14</td>\n      <td>Upgrade</td>\n      <td>Argus</td>\n      <td>Hold → Buy</td>\n      <td>$56</td>\n    </tr>\n    <tr>\n      <th>19</th>\n      <td>2021-01-13</td>\n      <td>Upgrade</td>\n      <td>Nomura</td>\n      <td>Neutral → Buy</td>\n      <td>$27 → $60</td>\n    </tr>\n  </tbody>\n</table>\n</div>"
          },
          "metadata": {}
        }
      ],
      "execution_count": 15,
      "metadata": {
        "collapsed": true,
        "jupyter": {
          "source_hidden": false,
          "outputs_hidden": false
        },
        "nteract": {
          "transient": {
            "deleting": false
          }
        },
        "execution": {
          "shell.execute_reply": "2022-10-20T00:26:56.846Z",
          "iopub.status.busy": "2022-10-20T00:26:57.589Z",
          "iopub.execute_input": "2022-10-20T00:26:57.597Z",
          "iopub.status.idle": "2022-10-20T00:26:57.613Z"
        }
      }
    },
    {
      "cell_type": "code",
      "source": [
        "gm.ticker_inside_trader()"
      ],
      "outputs": [
        {
          "output_type": "execute_result",
          "execution_count": 16,
          "data": {
            "text/plain": "        Insider Trading                    Relationship    Date  \\\n0        Johnson Gerald        Executive Vice President  Oct 01   \n1      Glidden Craig B.   Executive Vice President & GC  Oct 01   \n2    Blissett Julian G.        Executive Vice President  Oct 01   \n3   Carlisle Stephen K.        Executive Vice President  Apr 29   \n4       Jacobson Paul A  Executive Vice President & CFO  Apr 28   \n5    Blissett Julian G.        Executive Vice President  Feb 16   \n6      RUSSO PATRICIA F                        Director  Feb 10   \n7     Hatto Christopher            Vice President & CAO  Jan 04   \n8        Johnson Gerald        Executive Vice President  Jan 04   \n9      Glidden Craig B.   Executive Vice President & GC  Jan 04   \n10      Parks Douglas L        Executive Vice President  Nov 29   \n11   Blissett Julian G.        Executive Vice President  Nov 18   \n12     Glidden Craig B.   Executive Vice President & GC  Nov 18   \n13   Blissett Julian G.        Executive Vice President  Nov 18   \n14    Hatto Christopher            Vice President & CAO  Nov 18   \n15         Reuss Mark L                       President  Nov 17   \n16   Blissett Julian G.        Executive Vice President  Nov 17   \n17  Carlisle Stephen K.        Executive Vice President  Nov 17   \n18  Carlisle Stephen K.        Executive Vice President  Nov 17   \n19     Glidden Craig B.   Executive Vice President & GC  Nov 17   \n20   Blissett Julian G.        Executive Vice President  Nov 17   \n21       MOTT RANDALL D  Executive Vice President & CIO  Nov 17   \n22         Reuss Mark L                       President  Nov 17   \n23    Hatto Christopher            Vice President & CAO  Nov 17   \n24         Reuss Mark L                       President  Nov 12   \n25         Reuss Mark L                       President  Nov 12   \n\n        Transaction   Cost   #Shares   Value ($)  #Shares Total  \\\n0   Option Exercise   0.00   65833.0         0.0       126551.0   \n1   Option Exercise   0.00   32917.0         0.0       214677.0   \n2   Option Exercise   0.00   16459.0         0.0        52112.0   \n3              Sale  39.04   25645.0   1001181.0        64170.0   \n4               Buy  38.79   35000.0   1357650.0       110000.0   \n5              Sale  50.04   21742.0   1087970.0        35653.0   \n6               Buy  50.61    6000.0    303660.0        31000.0   \n7              Sale  65.00      47.0      3055.0        10337.0   \n8              Sale  65.01   14880.0    967349.0        34556.0   \n9              Sale  65.05   14191.0    923125.0       130179.0   \n10             Sale  61.31    9995.0    612793.0        17827.0   \n11  Option Exercise  39.00    1374.0     53586.0        37027.0   \n12             Sale  65.03    3000.0    195090.0       144370.0   \n13             Sale  65.02    1374.0     89337.0        35653.0   \n14             Sale  65.01     600.0     39006.0        10384.0   \n15  Option Exercise  34.34  189015.0   6490775.0       314697.0   \n16  Option Exercise  39.00    8543.0    333177.0        44196.0   \n17  Option Exercise  41.40   24306.0   1006268.0        83344.0   \n18             Sale  64.87   24306.0   1576730.0        59038.0   \n19             Sale  65.00    7204.0    468260.0       147370.0   \n20             Sale  65.00    8543.0    555295.0        35653.0   \n21             Sale  65.00   15000.0    975000.0       101113.0   \n22             Sale  64.36  224527.0  14450191.0        90170.0   \n23             Sale  65.00    7353.0    477945.0        10984.0   \n24  Option Exercise  34.34   14299.0    491028.0       154469.0   \n25             Sale  64.00   28787.0   1842368.0       125682.0   \n\n         SEC Form 4                                    SEC Form 4 Link  \\\n0   Oct 04 05:10 PM  http://www.sec.gov/Archives/edgar/data/1467858...   \n1   Oct 04 05:11 PM  http://www.sec.gov/Archives/edgar/data/1467858...   \n2   Oct 04 05:11 PM  http://www.sec.gov/Archives/edgar/data/1467858...   \n3   May 03 05:10 PM  http://www.sec.gov/Archives/edgar/data/1467858...   \n4   May 02 05:05 PM  http://www.sec.gov/Archives/edgar/data/1467858...   \n5   Feb 18 05:12 PM  http://www.sec.gov/Archives/edgar/data/1467858...   \n6   Feb 14 08:31 AM  http://www.sec.gov/Archives/edgar/data/1023219...   \n7   Jan 06 05:06 PM  http://www.sec.gov/Archives/edgar/data/1292153...   \n8   Jan 06 05:06 PM  http://www.sec.gov/Archives/edgar/data/1467858...   \n9   Jan 06 05:07 PM  http://www.sec.gov/Archives/edgar/data/1467858...   \n10  Dec 01 05:20 PM  http://www.sec.gov/Archives/edgar/data/1467858...   \n11  Nov 19 05:15 PM  http://www.sec.gov/Archives/edgar/data/1467858...   \n12  Nov 19 05:16 PM  http://www.sec.gov/Archives/edgar/data/1467858...   \n13  Nov 19 05:15 PM  http://www.sec.gov/Archives/edgar/data/1467858...   \n14  Nov 19 05:14 PM  http://www.sec.gov/Archives/edgar/data/1292153...   \n15  Nov 19 05:15 PM  http://www.sec.gov/Archives/edgar/data/1467858...   \n16  Nov 19 05:15 PM  http://www.sec.gov/Archives/edgar/data/1467858...   \n17  Nov 19 05:16 PM  http://www.sec.gov/Archives/edgar/data/1467858...   \n18  Nov 19 05:16 PM  http://www.sec.gov/Archives/edgar/data/1467858...   \n19  Nov 19 05:16 PM  http://www.sec.gov/Archives/edgar/data/1467858...   \n20  Nov 19 05:15 PM  http://www.sec.gov/Archives/edgar/data/1467858...   \n21  Nov 19 05:15 PM  http://www.sec.gov/Archives/edgar/data/1109494...   \n22  Nov 19 05:15 PM  http://www.sec.gov/Archives/edgar/data/1467858...   \n23  Nov 19 05:14 PM  http://www.sec.gov/Archives/edgar/data/1292153...   \n24  Nov 16 05:14 PM  http://www.sec.gov/Archives/edgar/data/1467858...   \n25  Nov 16 05:14 PM  http://www.sec.gov/Archives/edgar/data/1467858...   \n\n   Insider_id  \n0     1772226  \n1     1500309  \n2     1810440  \n3     1817794  \n4     1543655  \n5     1810440  \n6     1023219  \n7     1292153  \n8     1772226  \n9     1500309  \n10    1793300  \n11    1810440  \n12    1500309  \n13    1810440  \n14    1292153  \n15    1492362  \n16    1810440  \n17    1817794  \n18    1817794  \n19    1500309  \n20    1810440  \n21    1109494  \n22    1492362  \n23    1292153  \n24    1492362  \n25    1492362  ",
            "text/html": "<div>\n<style scoped>\n    .dataframe tbody tr th:only-of-type {\n        vertical-align: middle;\n    }\n\n    .dataframe tbody tr th {\n        vertical-align: top;\n    }\n\n    .dataframe thead th {\n        text-align: right;\n    }\n</style>\n<table border=\"1\" class=\"dataframe\">\n  <thead>\n    <tr style=\"text-align: right;\">\n      <th></th>\n      <th>Insider Trading</th>\n      <th>Relationship</th>\n      <th>Date</th>\n      <th>Transaction</th>\n      <th>Cost</th>\n      <th>#Shares</th>\n      <th>Value ($)</th>\n      <th>#Shares Total</th>\n      <th>SEC Form 4</th>\n      <th>SEC Form 4 Link</th>\n      <th>Insider_id</th>\n    </tr>\n  </thead>\n  <tbody>\n    <tr>\n      <th>0</th>\n      <td>Johnson Gerald</td>\n      <td>Executive Vice President</td>\n      <td>Oct 01</td>\n      <td>Option Exercise</td>\n      <td>0.00</td>\n      <td>65833.0</td>\n      <td>0.0</td>\n      <td>126551.0</td>\n      <td>Oct 04 05:10 PM</td>\n      <td>http://www.sec.gov/Archives/edgar/data/1467858...</td>\n      <td>1772226</td>\n    </tr>\n    <tr>\n      <th>1</th>\n      <td>Glidden Craig B.</td>\n      <td>Executive Vice President &amp; GC</td>\n      <td>Oct 01</td>\n      <td>Option Exercise</td>\n      <td>0.00</td>\n      <td>32917.0</td>\n      <td>0.0</td>\n      <td>214677.0</td>\n      <td>Oct 04 05:11 PM</td>\n      <td>http://www.sec.gov/Archives/edgar/data/1467858...</td>\n      <td>1500309</td>\n    </tr>\n    <tr>\n      <th>2</th>\n      <td>Blissett Julian G.</td>\n      <td>Executive Vice President</td>\n      <td>Oct 01</td>\n      <td>Option Exercise</td>\n      <td>0.00</td>\n      <td>16459.0</td>\n      <td>0.0</td>\n      <td>52112.0</td>\n      <td>Oct 04 05:11 PM</td>\n      <td>http://www.sec.gov/Archives/edgar/data/1467858...</td>\n      <td>1810440</td>\n    </tr>\n    <tr>\n      <th>3</th>\n      <td>Carlisle Stephen K.</td>\n      <td>Executive Vice President</td>\n      <td>Apr 29</td>\n      <td>Sale</td>\n      <td>39.04</td>\n      <td>25645.0</td>\n      <td>1001181.0</td>\n      <td>64170.0</td>\n      <td>May 03 05:10 PM</td>\n      <td>http://www.sec.gov/Archives/edgar/data/1467858...</td>\n      <td>1817794</td>\n    </tr>\n    <tr>\n      <th>4</th>\n      <td>Jacobson Paul A</td>\n      <td>Executive Vice President &amp; CFO</td>\n      <td>Apr 28</td>\n      <td>Buy</td>\n      <td>38.79</td>\n      <td>35000.0</td>\n      <td>1357650.0</td>\n      <td>110000.0</td>\n      <td>May 02 05:05 PM</td>\n      <td>http://www.sec.gov/Archives/edgar/data/1467858...</td>\n      <td>1543655</td>\n    </tr>\n    <tr>\n      <th>5</th>\n      <td>Blissett Julian G.</td>\n      <td>Executive Vice President</td>\n      <td>Feb 16</td>\n      <td>Sale</td>\n      <td>50.04</td>\n      <td>21742.0</td>\n      <td>1087970.0</td>\n      <td>35653.0</td>\n      <td>Feb 18 05:12 PM</td>\n      <td>http://www.sec.gov/Archives/edgar/data/1467858...</td>\n      <td>1810440</td>\n    </tr>\n    <tr>\n      <th>6</th>\n      <td>RUSSO PATRICIA F</td>\n      <td>Director</td>\n      <td>Feb 10</td>\n      <td>Buy</td>\n      <td>50.61</td>\n      <td>6000.0</td>\n      <td>303660.0</td>\n      <td>31000.0</td>\n      <td>Feb 14 08:31 AM</td>\n      <td>http://www.sec.gov/Archives/edgar/data/1023219...</td>\n      <td>1023219</td>\n    </tr>\n    <tr>\n      <th>7</th>\n      <td>Hatto Christopher</td>\n      <td>Vice President &amp; CAO</td>\n      <td>Jan 04</td>\n      <td>Sale</td>\n      <td>65.00</td>\n      <td>47.0</td>\n      <td>3055.0</td>\n      <td>10337.0</td>\n      <td>Jan 06 05:06 PM</td>\n      <td>http://www.sec.gov/Archives/edgar/data/1292153...</td>\n      <td>1292153</td>\n    </tr>\n    <tr>\n      <th>8</th>\n      <td>Johnson Gerald</td>\n      <td>Executive Vice President</td>\n      <td>Jan 04</td>\n      <td>Sale</td>\n      <td>65.01</td>\n      <td>14880.0</td>\n      <td>967349.0</td>\n      <td>34556.0</td>\n      <td>Jan 06 05:06 PM</td>\n      <td>http://www.sec.gov/Archives/edgar/data/1467858...</td>\n      <td>1772226</td>\n    </tr>\n    <tr>\n      <th>9</th>\n      <td>Glidden Craig B.</td>\n      <td>Executive Vice President &amp; GC</td>\n      <td>Jan 04</td>\n      <td>Sale</td>\n      <td>65.05</td>\n      <td>14191.0</td>\n      <td>923125.0</td>\n      <td>130179.0</td>\n      <td>Jan 06 05:07 PM</td>\n      <td>http://www.sec.gov/Archives/edgar/data/1467858...</td>\n      <td>1500309</td>\n    </tr>\n    <tr>\n      <th>10</th>\n      <td>Parks Douglas L</td>\n      <td>Executive Vice President</td>\n      <td>Nov 29</td>\n      <td>Sale</td>\n      <td>61.31</td>\n      <td>9995.0</td>\n      <td>612793.0</td>\n      <td>17827.0</td>\n      <td>Dec 01 05:20 PM</td>\n      <td>http://www.sec.gov/Archives/edgar/data/1467858...</td>\n      <td>1793300</td>\n    </tr>\n    <tr>\n      <th>11</th>\n      <td>Blissett Julian G.</td>\n      <td>Executive Vice President</td>\n      <td>Nov 18</td>\n      <td>Option Exercise</td>\n      <td>39.00</td>\n      <td>1374.0</td>\n      <td>53586.0</td>\n      <td>37027.0</td>\n      <td>Nov 19 05:15 PM</td>\n      <td>http://www.sec.gov/Archives/edgar/data/1467858...</td>\n      <td>1810440</td>\n    </tr>\n    <tr>\n      <th>12</th>\n      <td>Glidden Craig B.</td>\n      <td>Executive Vice President &amp; GC</td>\n      <td>Nov 18</td>\n      <td>Sale</td>\n      <td>65.03</td>\n      <td>3000.0</td>\n      <td>195090.0</td>\n      <td>144370.0</td>\n      <td>Nov 19 05:16 PM</td>\n      <td>http://www.sec.gov/Archives/edgar/data/1467858...</td>\n      <td>1500309</td>\n    </tr>\n    <tr>\n      <th>13</th>\n      <td>Blissett Julian G.</td>\n      <td>Executive Vice President</td>\n      <td>Nov 18</td>\n      <td>Sale</td>\n      <td>65.02</td>\n      <td>1374.0</td>\n      <td>89337.0</td>\n      <td>35653.0</td>\n      <td>Nov 19 05:15 PM</td>\n      <td>http://www.sec.gov/Archives/edgar/data/1467858...</td>\n      <td>1810440</td>\n    </tr>\n    <tr>\n      <th>14</th>\n      <td>Hatto Christopher</td>\n      <td>Vice President &amp; CAO</td>\n      <td>Nov 18</td>\n      <td>Sale</td>\n      <td>65.01</td>\n      <td>600.0</td>\n      <td>39006.0</td>\n      <td>10384.0</td>\n      <td>Nov 19 05:14 PM</td>\n      <td>http://www.sec.gov/Archives/edgar/data/1292153...</td>\n      <td>1292153</td>\n    </tr>\n    <tr>\n      <th>15</th>\n      <td>Reuss Mark L</td>\n      <td>President</td>\n      <td>Nov 17</td>\n      <td>Option Exercise</td>\n      <td>34.34</td>\n      <td>189015.0</td>\n      <td>6490775.0</td>\n      <td>314697.0</td>\n      <td>Nov 19 05:15 PM</td>\n      <td>http://www.sec.gov/Archives/edgar/data/1467858...</td>\n      <td>1492362</td>\n    </tr>\n    <tr>\n      <th>16</th>\n      <td>Blissett Julian G.</td>\n      <td>Executive Vice President</td>\n      <td>Nov 17</td>\n      <td>Option Exercise</td>\n      <td>39.00</td>\n      <td>8543.0</td>\n      <td>333177.0</td>\n      <td>44196.0</td>\n      <td>Nov 19 05:15 PM</td>\n      <td>http://www.sec.gov/Archives/edgar/data/1467858...</td>\n      <td>1810440</td>\n    </tr>\n    <tr>\n      <th>17</th>\n      <td>Carlisle Stephen K.</td>\n      <td>Executive Vice President</td>\n      <td>Nov 17</td>\n      <td>Option Exercise</td>\n      <td>41.40</td>\n      <td>24306.0</td>\n      <td>1006268.0</td>\n      <td>83344.0</td>\n      <td>Nov 19 05:16 PM</td>\n      <td>http://www.sec.gov/Archives/edgar/data/1467858...</td>\n      <td>1817794</td>\n    </tr>\n    <tr>\n      <th>18</th>\n      <td>Carlisle Stephen K.</td>\n      <td>Executive Vice President</td>\n      <td>Nov 17</td>\n      <td>Sale</td>\n      <td>64.87</td>\n      <td>24306.0</td>\n      <td>1576730.0</td>\n      <td>59038.0</td>\n      <td>Nov 19 05:16 PM</td>\n      <td>http://www.sec.gov/Archives/edgar/data/1467858...</td>\n      <td>1817794</td>\n    </tr>\n    <tr>\n      <th>19</th>\n      <td>Glidden Craig B.</td>\n      <td>Executive Vice President &amp; GC</td>\n      <td>Nov 17</td>\n      <td>Sale</td>\n      <td>65.00</td>\n      <td>7204.0</td>\n      <td>468260.0</td>\n      <td>147370.0</td>\n      <td>Nov 19 05:16 PM</td>\n      <td>http://www.sec.gov/Archives/edgar/data/1467858...</td>\n      <td>1500309</td>\n    </tr>\n    <tr>\n      <th>20</th>\n      <td>Blissett Julian G.</td>\n      <td>Executive Vice President</td>\n      <td>Nov 17</td>\n      <td>Sale</td>\n      <td>65.00</td>\n      <td>8543.0</td>\n      <td>555295.0</td>\n      <td>35653.0</td>\n      <td>Nov 19 05:15 PM</td>\n      <td>http://www.sec.gov/Archives/edgar/data/1467858...</td>\n      <td>1810440</td>\n    </tr>\n    <tr>\n      <th>21</th>\n      <td>MOTT RANDALL D</td>\n      <td>Executive Vice President &amp; CIO</td>\n      <td>Nov 17</td>\n      <td>Sale</td>\n      <td>65.00</td>\n      <td>15000.0</td>\n      <td>975000.0</td>\n      <td>101113.0</td>\n      <td>Nov 19 05:15 PM</td>\n      <td>http://www.sec.gov/Archives/edgar/data/1109494...</td>\n      <td>1109494</td>\n    </tr>\n    <tr>\n      <th>22</th>\n      <td>Reuss Mark L</td>\n      <td>President</td>\n      <td>Nov 17</td>\n      <td>Sale</td>\n      <td>64.36</td>\n      <td>224527.0</td>\n      <td>14450191.0</td>\n      <td>90170.0</td>\n      <td>Nov 19 05:15 PM</td>\n      <td>http://www.sec.gov/Archives/edgar/data/1467858...</td>\n      <td>1492362</td>\n    </tr>\n    <tr>\n      <th>23</th>\n      <td>Hatto Christopher</td>\n      <td>Vice President &amp; CAO</td>\n      <td>Nov 17</td>\n      <td>Sale</td>\n      <td>65.00</td>\n      <td>7353.0</td>\n      <td>477945.0</td>\n      <td>10984.0</td>\n      <td>Nov 19 05:14 PM</td>\n      <td>http://www.sec.gov/Archives/edgar/data/1292153...</td>\n      <td>1292153</td>\n    </tr>\n    <tr>\n      <th>24</th>\n      <td>Reuss Mark L</td>\n      <td>President</td>\n      <td>Nov 12</td>\n      <td>Option Exercise</td>\n      <td>34.34</td>\n      <td>14299.0</td>\n      <td>491028.0</td>\n      <td>154469.0</td>\n      <td>Nov 16 05:14 PM</td>\n      <td>http://www.sec.gov/Archives/edgar/data/1467858...</td>\n      <td>1492362</td>\n    </tr>\n    <tr>\n      <th>25</th>\n      <td>Reuss Mark L</td>\n      <td>President</td>\n      <td>Nov 12</td>\n      <td>Sale</td>\n      <td>64.00</td>\n      <td>28787.0</td>\n      <td>1842368.0</td>\n      <td>125682.0</td>\n      <td>Nov 16 05:14 PM</td>\n      <td>http://www.sec.gov/Archives/edgar/data/1467858...</td>\n      <td>1492362</td>\n    </tr>\n  </tbody>\n</table>\n</div>"
          },
          "metadata": {}
        }
      ],
      "execution_count": 16,
      "metadata": {
        "collapsed": true,
        "jupyter": {
          "source_hidden": false,
          "outputs_hidden": false
        },
        "nteract": {
          "transient": {
            "deleting": false
          }
        },
        "execution": {
          "shell.execute_reply": "2022-10-20T00:26:56.858Z",
          "iopub.status.busy": "2022-10-20T00:26:57.627Z",
          "iopub.execute_input": "2022-10-20T00:26:57.636Z",
          "iopub.status.idle": "2022-10-20T00:26:57.654Z"
        }
      }
    },
    {
      "cell_type": "markdown",
      "source": [
        "## F"
      ],
      "metadata": {
        "nteract": {
          "transient": {
            "deleting": false
          }
        }
      }
    },
    {
      "cell_type": "code",
      "source": [
        "f = finvizfinance('F')"
      ],
      "outputs": [],
      "execution_count": 17,
      "metadata": {
        "collapsed": true,
        "jupyter": {
          "source_hidden": false,
          "outputs_hidden": false
        },
        "nteract": {
          "transient": {
            "deleting": false
          }
        },
        "execution": {
          "shell.execute_reply": "2022-10-20T00:26:56.868Z",
          "iopub.status.busy": "2022-10-20T00:26:57.668Z",
          "iopub.execute_input": "2022-10-20T00:26:57.678Z",
          "iopub.status.idle": "2022-10-20T00:26:57.688Z"
        }
      }
    },
    {
      "cell_type": "code",
      "source": [
        "f.ticker_fundament()"
      ],
      "outputs": [
        {
          "output_type": "execute_result",
          "execution_count": 18,
          "data": {
            "text/plain": "{'Company': 'Ford Motor Company',\n 'Sector': 'Consumer Cyclical',\n 'Industry': 'Auto Manufacturers',\n 'Country': 'USA',\n 'Index': 'S&P 500',\n 'P/E': '4.23',\n 'EPS (ttm)': '2.87',\n 'Insider Own': '0.10%',\n 'Shs Outstand': '4.02B',\n 'Perf Week': '5.11%',\n 'Market Cap': '49.18B',\n 'Forward P/E': '6.42',\n 'EPS next Y': '1.89',\n 'Insider Trans': '-0.63%',\n 'Shs Float': '3.94B',\n 'Perf Month': '-7.33%',\n 'Income': '11.67B',\n 'PEG': '0.51',\n 'EPS next Q': '0.32',\n 'Inst Own': '52.70%',\n 'Short Float': '3.40%',\n 'Perf Quarter': '-6.69%',\n 'Sales': '148.03B',\n 'P/S': '0.33',\n 'EPS this Y': '23.30%',\n 'Inst Trans': '0.05%',\n 'Short Ratio': '1.92',\n 'Perf Half Y': '-24.42%',\n 'Book/sh': '10.98',\n 'P/B': '1.10',\n 'EPS next Y Percentage': '-6.16%',\n 'ROA': '4.60%',\n 'Target Price': '15.27',\n 'Perf Year': '-21.34%',\n 'Cash/sh': '9.05',\n 'P/C': '1.34',\n 'EPS next 5Y': '8.33%',\n 'ROE': '26.80%',\n '52W Range From': '10.61',\n '52W Range To': '25.87',\n 'Perf YTD': '-41.60%',\n 'Dividend': '0.60',\n 'P/FCF': '10.29',\n 'EPS past 5Y': '31.10%',\n 'ROI': '1.60%',\n '52W High': '-53.11%',\n 'Beta': '1.38',\n 'Dividend %': '4.95%',\n 'Quick Ratio': '1.00',\n 'Sales past 5Y': '-2.10%',\n 'Gross Margin': '12.20%',\n '52W Low': '14.33%',\n 'ATR': '0.54',\n 'Employees': '183000',\n 'Current Ratio': '1.20',\n 'Sales Q/Q': '50.20%',\n 'Oper. Margin': '3.10%',\n 'RSI (14)': '44.14',\n 'Volatility W': '3.34%',\n 'Volatility M': '3.75%',\n 'Optionable': 'Yes',\n 'Debt/Eq': '2.92',\n 'EPS Q/Q': '18.20%',\n 'Profit Margin': '7.90%',\n 'Rel Volume': '0.77',\n 'Prev Close': '12.03',\n 'Shortable': 'Yes',\n 'LT Debt/Eq': '1.92',\n 'Earnings': 'Oct 26 AMC',\n 'Payout': '10.30%',\n 'Avg Volume': '69.94M',\n 'Price': '12.13',\n 'Recom': '2.70',\n 'SMA20': '1.28%',\n 'SMA50': '-13.46%',\n 'SMA200': '-20.88%',\n 'Volume': '53,971,283',\n 'Change': '0.83%'}"
          },
          "metadata": {}
        }
      ],
      "execution_count": 18,
      "metadata": {
        "collapsed": true,
        "jupyter": {
          "source_hidden": false,
          "outputs_hidden": false
        },
        "nteract": {
          "transient": {
            "deleting": false
          }
        },
        "execution": {
          "shell.execute_reply": "2022-10-20T00:26:56.878Z",
          "iopub.status.busy": "2022-10-20T00:26:57.704Z",
          "iopub.execute_input": "2022-10-20T00:26:57.715Z",
          "iopub.status.idle": "2022-10-20T00:26:57.730Z"
        }
      }
    },
    {
      "cell_type": "code",
      "source": [
        "f.ticker_description()"
      ],
      "outputs": [
        {
          "output_type": "execute_result",
          "execution_count": 19,
          "data": {
            "text/plain": "'Ford Motor Company designs, manufactures, markets, and services a range of Ford trucks, cars, sport utility vehicles, electrified vehicles, and Lincoln luxury vehicles worldwide. It operates through three segments: Automotive, Mobility, and Ford Credit. The Automotive segment sells Ford and Lincoln vehicles, service parts, and accessories through distributors and dealers, as well as through dealerships to commercial fleet customers, daily rental car companies, and governments. The Mobility segment designs and builds mobility services; and provides self-driving systems development services. The Ford Credit segment primarily engages in vehicle-related financing and leasing activities to and through automotive dealers. It provides retail installment sale contracts for new and used vehicles; and direct financing leases for new vehicles to retail and commercial customers, such as leasing companies, government entities, daily rental companies, and fleet customers. This segment also offers wholesale loans to dealers to finance the purchase of vehicle inventory; and loans to dealers to finance working capital and enhance dealership facilities, purchase dealership real estate, and other dealer vehicle programs. The company has a strategic collaboration with ARB Corporation Limited to develop a suite of aftermarket products for the new Ford Bronco. Ford Motor Company was incorporated in 1903 and is based in Dearborn, Michigan.'"
          },
          "metadata": {}
        }
      ],
      "execution_count": 19,
      "metadata": {
        "collapsed": true,
        "jupyter": {
          "source_hidden": false,
          "outputs_hidden": false
        },
        "nteract": {
          "transient": {
            "deleting": false
          }
        },
        "execution": {
          "shell.execute_reply": "2022-10-20T00:26:56.887Z",
          "iopub.status.busy": "2022-10-20T00:26:57.743Z",
          "iopub.execute_input": "2022-10-20T00:26:57.751Z",
          "iopub.status.idle": "2022-10-20T00:26:57.766Z"
        }
      }
    },
    {
      "cell_type": "code",
      "source": [
        "f.ticker_outer_ratings()"
      ],
      "outputs": [
        {
          "output_type": "execute_result",
          "execution_count": 20,
          "data": {
            "text/plain": "         Date      Status              Outer                       Rating  \\\n0  2022-10-10   Downgrade                UBS               Neutral → Sell   \n1  2022-10-05     Upgrade     Morgan Stanley    Equal-Weight → Overweight   \n2  2022-08-02  Reiterated          Citigroup                      Neutral   \n3  2022-07-21     Upgrade             Nomura             Reduce → Neutral   \n4  2022-05-13     Upgrade     Morgan Stanley   Underweight → Equal-Weight   \n5  2022-05-12   Downgrade        Wells Fargo     Overweight → Underweight   \n6  2022-05-10   Initiated          Berenberg                         Hold   \n7  2022-04-11   Initiated  Exane BNP Paribas                   Outperform   \n8  2022-04-07   Downgrade           Barclays    Overweight → Equal Weight   \n9  2022-01-20   Downgrade          Jefferies                   Buy → Hold   \n10 2022-01-14   Downgrade   RBC Capital Mkts  Outperform → Sector Perform   \n11 2021-12-30  Reiterated          Citigroup                      Neutral   \n12 2021-12-16  Reiterated        Wells Fargo                   Overweight   \n13 2021-12-14   Downgrade   Daiwa Securities       Neutral → Underperform   \n14 2021-12-02   Downgrade     Wolfe Research    Outperform → Peer Perform   \n15 2021-11-02  Reiterated          Jefferies                          Buy   \n16 2021-11-02   Downgrade             Nomura             Neutral → Reduce   \n17 2021-10-20     Upgrade      Credit Suisse         Neutral → Outperform   \n18 2021-06-22  Reiterated           Barclays                   Overweight   \n19 2021-05-27     Upgrade   RBC Capital Mkts  Sector Perform → Outperform   \n\n        Price  \n0   $13 → $10  \n1              \n2   $16 → $15  \n3      $12.40  \n4         $13  \n5   $24 → $12  \n6         $17  \n7              \n8   $23 → $17  \n9   $20 → $25  \n10  $21 → $26  \n11  $20 → $23  \n12  $19 → $25  \n13  $16 → $19  \n14  $17 → $22  \n15  $17 → $20  \n16             \n17  $15 → $20  \n18  $15 → $17  \n19  $13 → $17  ",
            "text/html": "<div>\n<style scoped>\n    .dataframe tbody tr th:only-of-type {\n        vertical-align: middle;\n    }\n\n    .dataframe tbody tr th {\n        vertical-align: top;\n    }\n\n    .dataframe thead th {\n        text-align: right;\n    }\n</style>\n<table border=\"1\" class=\"dataframe\">\n  <thead>\n    <tr style=\"text-align: right;\">\n      <th></th>\n      <th>Date</th>\n      <th>Status</th>\n      <th>Outer</th>\n      <th>Rating</th>\n      <th>Price</th>\n    </tr>\n  </thead>\n  <tbody>\n    <tr>\n      <th>0</th>\n      <td>2022-10-10</td>\n      <td>Downgrade</td>\n      <td>UBS</td>\n      <td>Neutral → Sell</td>\n      <td>$13 → $10</td>\n    </tr>\n    <tr>\n      <th>1</th>\n      <td>2022-10-05</td>\n      <td>Upgrade</td>\n      <td>Morgan Stanley</td>\n      <td>Equal-Weight → Overweight</td>\n      <td></td>\n    </tr>\n    <tr>\n      <th>2</th>\n      <td>2022-08-02</td>\n      <td>Reiterated</td>\n      <td>Citigroup</td>\n      <td>Neutral</td>\n      <td>$16 → $15</td>\n    </tr>\n    <tr>\n      <th>3</th>\n      <td>2022-07-21</td>\n      <td>Upgrade</td>\n      <td>Nomura</td>\n      <td>Reduce → Neutral</td>\n      <td>$12.40</td>\n    </tr>\n    <tr>\n      <th>4</th>\n      <td>2022-05-13</td>\n      <td>Upgrade</td>\n      <td>Morgan Stanley</td>\n      <td>Underweight → Equal-Weight</td>\n      <td>$13</td>\n    </tr>\n    <tr>\n      <th>5</th>\n      <td>2022-05-12</td>\n      <td>Downgrade</td>\n      <td>Wells Fargo</td>\n      <td>Overweight → Underweight</td>\n      <td>$24 → $12</td>\n    </tr>\n    <tr>\n      <th>6</th>\n      <td>2022-05-10</td>\n      <td>Initiated</td>\n      <td>Berenberg</td>\n      <td>Hold</td>\n      <td>$17</td>\n    </tr>\n    <tr>\n      <th>7</th>\n      <td>2022-04-11</td>\n      <td>Initiated</td>\n      <td>Exane BNP Paribas</td>\n      <td>Outperform</td>\n      <td></td>\n    </tr>\n    <tr>\n      <th>8</th>\n      <td>2022-04-07</td>\n      <td>Downgrade</td>\n      <td>Barclays</td>\n      <td>Overweight → Equal Weight</td>\n      <td>$23 → $17</td>\n    </tr>\n    <tr>\n      <th>9</th>\n      <td>2022-01-20</td>\n      <td>Downgrade</td>\n      <td>Jefferies</td>\n      <td>Buy → Hold</td>\n      <td>$20 → $25</td>\n    </tr>\n    <tr>\n      <th>10</th>\n      <td>2022-01-14</td>\n      <td>Downgrade</td>\n      <td>RBC Capital Mkts</td>\n      <td>Outperform → Sector Perform</td>\n      <td>$21 → $26</td>\n    </tr>\n    <tr>\n      <th>11</th>\n      <td>2021-12-30</td>\n      <td>Reiterated</td>\n      <td>Citigroup</td>\n      <td>Neutral</td>\n      <td>$20 → $23</td>\n    </tr>\n    <tr>\n      <th>12</th>\n      <td>2021-12-16</td>\n      <td>Reiterated</td>\n      <td>Wells Fargo</td>\n      <td>Overweight</td>\n      <td>$19 → $25</td>\n    </tr>\n    <tr>\n      <th>13</th>\n      <td>2021-12-14</td>\n      <td>Downgrade</td>\n      <td>Daiwa Securities</td>\n      <td>Neutral → Underperform</td>\n      <td>$16 → $19</td>\n    </tr>\n    <tr>\n      <th>14</th>\n      <td>2021-12-02</td>\n      <td>Downgrade</td>\n      <td>Wolfe Research</td>\n      <td>Outperform → Peer Perform</td>\n      <td>$17 → $22</td>\n    </tr>\n    <tr>\n      <th>15</th>\n      <td>2021-11-02</td>\n      <td>Reiterated</td>\n      <td>Jefferies</td>\n      <td>Buy</td>\n      <td>$17 → $20</td>\n    </tr>\n    <tr>\n      <th>16</th>\n      <td>2021-11-02</td>\n      <td>Downgrade</td>\n      <td>Nomura</td>\n      <td>Neutral → Reduce</td>\n      <td></td>\n    </tr>\n    <tr>\n      <th>17</th>\n      <td>2021-10-20</td>\n      <td>Upgrade</td>\n      <td>Credit Suisse</td>\n      <td>Neutral → Outperform</td>\n      <td>$15 → $20</td>\n    </tr>\n    <tr>\n      <th>18</th>\n      <td>2021-06-22</td>\n      <td>Reiterated</td>\n      <td>Barclays</td>\n      <td>Overweight</td>\n      <td>$15 → $17</td>\n    </tr>\n    <tr>\n      <th>19</th>\n      <td>2021-05-27</td>\n      <td>Upgrade</td>\n      <td>RBC Capital Mkts</td>\n      <td>Sector Perform → Outperform</td>\n      <td>$13 → $17</td>\n    </tr>\n  </tbody>\n</table>\n</div>"
          },
          "metadata": {}
        }
      ],
      "execution_count": 20,
      "metadata": {
        "collapsed": true,
        "jupyter": {
          "source_hidden": false,
          "outputs_hidden": false
        },
        "nteract": {
          "transient": {
            "deleting": false
          }
        },
        "execution": {
          "shell.execute_reply": "2022-10-20T00:26:56.897Z",
          "iopub.status.busy": "2022-10-20T00:26:57.781Z",
          "iopub.execute_input": "2022-10-20T00:26:57.791Z",
          "iopub.status.idle": "2022-10-20T00:26:57.809Z"
        }
      }
    },
    {
      "cell_type": "code",
      "source": [
        "f.ticker_inside_trader()"
      ],
      "outputs": [
        {
          "output_type": "execute_result",
          "execution_count": 21,
          "data": {
            "text/plain": "             Insider Trading                    Relationship    Date  \\\n0     Galhotra Ashwani Kumar            President, Ford Blue  May 24   \n1     Galhotra Ashwani Kumar            President, Ford Blue  May 24   \n2              FORD MOTOR CO                       10% Owner  May 13   \n3              FORD MOTOR CO                       10% Owner  May 09   \n4       FORD WILLIAM CLAY JR       Executive Chair and Chair  Mar 24   \n5          FARLEY JR JAMES D               President and CEO  Mar 03   \n6          FARLEY JR JAMES D               President and CEO  Mar 03   \n7          FARLEY JR JAMES D               President and CEO  Feb 18   \n8     Galhotra Ashwani Kumar     President, Americas and IMG  Feb 18   \n9            Thai-Tang Hau N   Chief Prod Plat & Ops Officer  Feb 17   \n10            Lawler John T.             Vice President, CFO  Feb 15   \n11    English Alexandra Ford                        Director  Dec 20   \n12      FORD WILLIAM CLAY JR       Executive Chair and Chair  Dec 10   \n13      FORD WILLIAM CLAY JR       Executive Chair and Chair  Dec 06   \n14  O'Callaghan Catherine A.                      Controller  Dec 03   \n15  O'Callaghan Catherine A.                      Controller  Dec 03   \n16         Robinson Kiersten  Chief People & E. Exp. Officer  Nov 22   \n17         Robinson Kiersten  Chief People & E. Exp. Officer  Nov 22   \n18         Robinson Kiersten  Chief People & E. Exp. Officer  Nov 08   \n19         Robinson Kiersten  Chief People & E. Exp. Officer  Nov 08   \n20          Rowley Stuart J.       President, Ford of Europe  Oct 28   \n\n        Transaction   Cost    #Shares    Value ($)  #Shares Total  \\\n0   Option Exercise  10.12    25892.0     262027.0       537497.0   \n1              Sale  12.41    25892.0     321340.0       511605.0   \n2              Sale  26.88  7000000.0  188165600.0     86947494.0   \n3              Sale  26.80  8000000.0  214400000.0     93947494.0   \n4               Buy  16.81   267697.0    4499987.0      4221936.0   \n5   Option Exercise   8.01   185343.0    1484374.0      1454999.0   \n6              Sale  17.85   185343.0    3308929.0      1269656.0   \n7   Option Exercise  12.46     8025.0      99992.0      1275198.0   \n8   Option Exercise  11.98    18357.0     219888.0       356691.0   \n9   Option Exercise  12.46    37414.0     466178.0       706331.0   \n10  Option Exercise  12.46    14579.0     181654.0       288540.0   \n11              Buy  19.33    38789.0     749791.0        65368.0   \n12              Buy  20.62   412500.0    8505750.0      3951938.0   \n13  Option Exercise  10.68  1923238.0   20548578.0      2156271.0   \n14  Option Exercise  14.60    16154.0     235915.0       102265.0   \n15             Sale  20.26    72956.0    1478373.0        29309.0   \n16  Option Exercise  12.75    17713.0     225841.0       127404.0   \n17             Sale  20.43    17713.0     361877.0       109691.0   \n18  Option Exercise  12.46    12419.0     154741.0       122110.0   \n19             Sale  20.17    12419.0     250492.0       109691.0   \n20             Sale  17.00    15000.0     255000.0       108614.0   \n\n         SEC Form 4                                    SEC Form 4 Link  \\\n0   May 26 04:53 PM  http://www.sec.gov/Archives/edgar/data/37996/0...   \n1   May 26 04:53 PM  http://www.sec.gov/Archives/edgar/data/37996/0...   \n2   May 13 08:48 PM  http://www.sec.gov/Archives/edgar/data/37996/0...   \n3   May 10 08:48 PM  http://www.sec.gov/Archives/edgar/data/37996/0...   \n4   Mar 28 04:11 PM  http://www.sec.gov/Archives/edgar/data/37996/0...   \n5   Mar 04 04:09 PM  http://www.sec.gov/Archives/edgar/data/37996/0...   \n6   Mar 04 04:09 PM  http://www.sec.gov/Archives/edgar/data/37996/0...   \n7   Feb 22 05:01 PM  http://www.sec.gov/Archives/edgar/data/37996/0...   \n8   Feb 22 05:02 PM  http://www.sec.gov/Archives/edgar/data/37996/0...   \n9   Feb 22 05:04 PM  http://www.sec.gov/Archives/edgar/data/37996/0...   \n10  Feb 17 04:55 PM  http://www.sec.gov/Archives/edgar/data/37996/0...   \n11  Dec 22 04:06 PM  http://www.sec.gov/Archives/edgar/data/37996/0...   \n12  Dec 14 04:36 PM  http://www.sec.gov/Archives/edgar/data/37996/0...   \n13  Dec 08 04:37 PM  http://www.sec.gov/Archives/edgar/data/37996/0...   \n14  Dec 06 04:43 PM  http://www.sec.gov/Archives/edgar/data/37996/0...   \n15  Dec 06 04:43 PM  http://www.sec.gov/Archives/edgar/data/37996/0...   \n16  Nov 22 04:35 PM  http://www.sec.gov/Archives/edgar/data/37996/0...   \n17  Nov 22 04:35 PM  http://www.sec.gov/Archives/edgar/data/37996/0...   \n18  Nov 09 04:16 PM  http://www.sec.gov/Archives/edgar/data/37996/0...   \n19  Nov 09 04:16 PM  http://www.sec.gov/Archives/edgar/data/37996/0...   \n20  Oct 29 04:20 PM  http://www.sec.gov/Archives/edgar/data/37996/0...   \n\n   Insider_id  \n0     1720106  \n1     1720106  \n2       37996  \n3       37996  \n4     1230846  \n5     1415834  \n6     1415834  \n7     1415834  \n8     1720106  \n9     1582109  \n10    1676526  \n11    1863399  \n12    1230846  \n13    1230846  \n14    1741624  \n15    1741624  \n16    1735222  \n17    1735222  \n18    1735222  \n19    1735222  \n20    1545023  ",
            "text/html": "<div>\n<style scoped>\n    .dataframe tbody tr th:only-of-type {\n        vertical-align: middle;\n    }\n\n    .dataframe tbody tr th {\n        vertical-align: top;\n    }\n\n    .dataframe thead th {\n        text-align: right;\n    }\n</style>\n<table border=\"1\" class=\"dataframe\">\n  <thead>\n    <tr style=\"text-align: right;\">\n      <th></th>\n      <th>Insider Trading</th>\n      <th>Relationship</th>\n      <th>Date</th>\n      <th>Transaction</th>\n      <th>Cost</th>\n      <th>#Shares</th>\n      <th>Value ($)</th>\n      <th>#Shares Total</th>\n      <th>SEC Form 4</th>\n      <th>SEC Form 4 Link</th>\n      <th>Insider_id</th>\n    </tr>\n  </thead>\n  <tbody>\n    <tr>\n      <th>0</th>\n      <td>Galhotra Ashwani Kumar</td>\n      <td>President, Ford Blue</td>\n      <td>May 24</td>\n      <td>Option Exercise</td>\n      <td>10.12</td>\n      <td>25892.0</td>\n      <td>262027.0</td>\n      <td>537497.0</td>\n      <td>May 26 04:53 PM</td>\n      <td>http://www.sec.gov/Archives/edgar/data/37996/0...</td>\n      <td>1720106</td>\n    </tr>\n    <tr>\n      <th>1</th>\n      <td>Galhotra Ashwani Kumar</td>\n      <td>President, Ford Blue</td>\n      <td>May 24</td>\n      <td>Sale</td>\n      <td>12.41</td>\n      <td>25892.0</td>\n      <td>321340.0</td>\n      <td>511605.0</td>\n      <td>May 26 04:53 PM</td>\n      <td>http://www.sec.gov/Archives/edgar/data/37996/0...</td>\n      <td>1720106</td>\n    </tr>\n    <tr>\n      <th>2</th>\n      <td>FORD MOTOR CO</td>\n      <td>10% Owner</td>\n      <td>May 13</td>\n      <td>Sale</td>\n      <td>26.88</td>\n      <td>7000000.0</td>\n      <td>188165600.0</td>\n      <td>86947494.0</td>\n      <td>May 13 08:48 PM</td>\n      <td>http://www.sec.gov/Archives/edgar/data/37996/0...</td>\n      <td>37996</td>\n    </tr>\n    <tr>\n      <th>3</th>\n      <td>FORD MOTOR CO</td>\n      <td>10% Owner</td>\n      <td>May 09</td>\n      <td>Sale</td>\n      <td>26.80</td>\n      <td>8000000.0</td>\n      <td>214400000.0</td>\n      <td>93947494.0</td>\n      <td>May 10 08:48 PM</td>\n      <td>http://www.sec.gov/Archives/edgar/data/37996/0...</td>\n      <td>37996</td>\n    </tr>\n    <tr>\n      <th>4</th>\n      <td>FORD WILLIAM CLAY JR</td>\n      <td>Executive Chair and Chair</td>\n      <td>Mar 24</td>\n      <td>Buy</td>\n      <td>16.81</td>\n      <td>267697.0</td>\n      <td>4499987.0</td>\n      <td>4221936.0</td>\n      <td>Mar 28 04:11 PM</td>\n      <td>http://www.sec.gov/Archives/edgar/data/37996/0...</td>\n      <td>1230846</td>\n    </tr>\n    <tr>\n      <th>5</th>\n      <td>FARLEY JR JAMES D</td>\n      <td>President and CEO</td>\n      <td>Mar 03</td>\n      <td>Option Exercise</td>\n      <td>8.01</td>\n      <td>185343.0</td>\n      <td>1484374.0</td>\n      <td>1454999.0</td>\n      <td>Mar 04 04:09 PM</td>\n      <td>http://www.sec.gov/Archives/edgar/data/37996/0...</td>\n      <td>1415834</td>\n    </tr>\n    <tr>\n      <th>6</th>\n      <td>FARLEY JR JAMES D</td>\n      <td>President and CEO</td>\n      <td>Mar 03</td>\n      <td>Sale</td>\n      <td>17.85</td>\n      <td>185343.0</td>\n      <td>3308929.0</td>\n      <td>1269656.0</td>\n      <td>Mar 04 04:09 PM</td>\n      <td>http://www.sec.gov/Archives/edgar/data/37996/0...</td>\n      <td>1415834</td>\n    </tr>\n    <tr>\n      <th>7</th>\n      <td>FARLEY JR JAMES D</td>\n      <td>President and CEO</td>\n      <td>Feb 18</td>\n      <td>Option Exercise</td>\n      <td>12.46</td>\n      <td>8025.0</td>\n      <td>99992.0</td>\n      <td>1275198.0</td>\n      <td>Feb 22 05:01 PM</td>\n      <td>http://www.sec.gov/Archives/edgar/data/37996/0...</td>\n      <td>1415834</td>\n    </tr>\n    <tr>\n      <th>8</th>\n      <td>Galhotra Ashwani Kumar</td>\n      <td>President, Americas and IMG</td>\n      <td>Feb 18</td>\n      <td>Option Exercise</td>\n      <td>11.98</td>\n      <td>18357.0</td>\n      <td>219888.0</td>\n      <td>356691.0</td>\n      <td>Feb 22 05:02 PM</td>\n      <td>http://www.sec.gov/Archives/edgar/data/37996/0...</td>\n      <td>1720106</td>\n    </tr>\n    <tr>\n      <th>9</th>\n      <td>Thai-Tang Hau N</td>\n      <td>Chief Prod Plat &amp; Ops Officer</td>\n      <td>Feb 17</td>\n      <td>Option Exercise</td>\n      <td>12.46</td>\n      <td>37414.0</td>\n      <td>466178.0</td>\n      <td>706331.0</td>\n      <td>Feb 22 05:04 PM</td>\n      <td>http://www.sec.gov/Archives/edgar/data/37996/0...</td>\n      <td>1582109</td>\n    </tr>\n    <tr>\n      <th>10</th>\n      <td>Lawler John T.</td>\n      <td>Vice President, CFO</td>\n      <td>Feb 15</td>\n      <td>Option Exercise</td>\n      <td>12.46</td>\n      <td>14579.0</td>\n      <td>181654.0</td>\n      <td>288540.0</td>\n      <td>Feb 17 04:55 PM</td>\n      <td>http://www.sec.gov/Archives/edgar/data/37996/0...</td>\n      <td>1676526</td>\n    </tr>\n    <tr>\n      <th>11</th>\n      <td>English Alexandra Ford</td>\n      <td>Director</td>\n      <td>Dec 20</td>\n      <td>Buy</td>\n      <td>19.33</td>\n      <td>38789.0</td>\n      <td>749791.0</td>\n      <td>65368.0</td>\n      <td>Dec 22 04:06 PM</td>\n      <td>http://www.sec.gov/Archives/edgar/data/37996/0...</td>\n      <td>1863399</td>\n    </tr>\n    <tr>\n      <th>12</th>\n      <td>FORD WILLIAM CLAY JR</td>\n      <td>Executive Chair and Chair</td>\n      <td>Dec 10</td>\n      <td>Buy</td>\n      <td>20.62</td>\n      <td>412500.0</td>\n      <td>8505750.0</td>\n      <td>3951938.0</td>\n      <td>Dec 14 04:36 PM</td>\n      <td>http://www.sec.gov/Archives/edgar/data/37996/0...</td>\n      <td>1230846</td>\n    </tr>\n    <tr>\n      <th>13</th>\n      <td>FORD WILLIAM CLAY JR</td>\n      <td>Executive Chair and Chair</td>\n      <td>Dec 06</td>\n      <td>Option Exercise</td>\n      <td>10.68</td>\n      <td>1923238.0</td>\n      <td>20548578.0</td>\n      <td>2156271.0</td>\n      <td>Dec 08 04:37 PM</td>\n      <td>http://www.sec.gov/Archives/edgar/data/37996/0...</td>\n      <td>1230846</td>\n    </tr>\n    <tr>\n      <th>14</th>\n      <td>O'Callaghan Catherine A.</td>\n      <td>Controller</td>\n      <td>Dec 03</td>\n      <td>Option Exercise</td>\n      <td>14.60</td>\n      <td>16154.0</td>\n      <td>235915.0</td>\n      <td>102265.0</td>\n      <td>Dec 06 04:43 PM</td>\n      <td>http://www.sec.gov/Archives/edgar/data/37996/0...</td>\n      <td>1741624</td>\n    </tr>\n    <tr>\n      <th>15</th>\n      <td>O'Callaghan Catherine A.</td>\n      <td>Controller</td>\n      <td>Dec 03</td>\n      <td>Sale</td>\n      <td>20.26</td>\n      <td>72956.0</td>\n      <td>1478373.0</td>\n      <td>29309.0</td>\n      <td>Dec 06 04:43 PM</td>\n      <td>http://www.sec.gov/Archives/edgar/data/37996/0...</td>\n      <td>1741624</td>\n    </tr>\n    <tr>\n      <th>16</th>\n      <td>Robinson Kiersten</td>\n      <td>Chief People &amp; E. Exp. Officer</td>\n      <td>Nov 22</td>\n      <td>Option Exercise</td>\n      <td>12.75</td>\n      <td>17713.0</td>\n      <td>225841.0</td>\n      <td>127404.0</td>\n      <td>Nov 22 04:35 PM</td>\n      <td>http://www.sec.gov/Archives/edgar/data/37996/0...</td>\n      <td>1735222</td>\n    </tr>\n    <tr>\n      <th>17</th>\n      <td>Robinson Kiersten</td>\n      <td>Chief People &amp; E. Exp. Officer</td>\n      <td>Nov 22</td>\n      <td>Sale</td>\n      <td>20.43</td>\n      <td>17713.0</td>\n      <td>361877.0</td>\n      <td>109691.0</td>\n      <td>Nov 22 04:35 PM</td>\n      <td>http://www.sec.gov/Archives/edgar/data/37996/0...</td>\n      <td>1735222</td>\n    </tr>\n    <tr>\n      <th>18</th>\n      <td>Robinson Kiersten</td>\n      <td>Chief People &amp; E. Exp. Officer</td>\n      <td>Nov 08</td>\n      <td>Option Exercise</td>\n      <td>12.46</td>\n      <td>12419.0</td>\n      <td>154741.0</td>\n      <td>122110.0</td>\n      <td>Nov 09 04:16 PM</td>\n      <td>http://www.sec.gov/Archives/edgar/data/37996/0...</td>\n      <td>1735222</td>\n    </tr>\n    <tr>\n      <th>19</th>\n      <td>Robinson Kiersten</td>\n      <td>Chief People &amp; E. Exp. Officer</td>\n      <td>Nov 08</td>\n      <td>Sale</td>\n      <td>20.17</td>\n      <td>12419.0</td>\n      <td>250492.0</td>\n      <td>109691.0</td>\n      <td>Nov 09 04:16 PM</td>\n      <td>http://www.sec.gov/Archives/edgar/data/37996/0...</td>\n      <td>1735222</td>\n    </tr>\n    <tr>\n      <th>20</th>\n      <td>Rowley Stuart J.</td>\n      <td>President, Ford of Europe</td>\n      <td>Oct 28</td>\n      <td>Sale</td>\n      <td>17.00</td>\n      <td>15000.0</td>\n      <td>255000.0</td>\n      <td>108614.0</td>\n      <td>Oct 29 04:20 PM</td>\n      <td>http://www.sec.gov/Archives/edgar/data/37996/0...</td>\n      <td>1545023</td>\n    </tr>\n  </tbody>\n</table>\n</div>"
          },
          "metadata": {}
        }
      ],
      "execution_count": 21,
      "metadata": {
        "collapsed": true,
        "jupyter": {
          "source_hidden": false,
          "outputs_hidden": false
        },
        "nteract": {
          "transient": {
            "deleting": false
          }
        },
        "execution": {
          "shell.execute_reply": "2022-10-20T00:26:56.906Z",
          "iopub.status.busy": "2022-10-20T00:26:57.824Z",
          "iopub.execute_input": "2022-10-20T00:26:57.833Z",
          "iopub.status.idle": "2022-10-20T00:26:57.851Z"
        }
      }
    },
    {
      "cell_type": "markdown",
      "source": [
        "## HMC"
      ],
      "metadata": {
        "nteract": {
          "transient": {
            "deleting": false
          }
        }
      }
    },
    {
      "cell_type": "code",
      "source": [
        "hmc = finvizfinance('HMC')"
      ],
      "outputs": [],
      "execution_count": 22,
      "metadata": {
        "collapsed": true,
        "jupyter": {
          "source_hidden": false,
          "outputs_hidden": false
        },
        "nteract": {
          "transient": {
            "deleting": false
          }
        },
        "execution": {
          "shell.execute_reply": "2022-10-20T00:26:56.914Z",
          "iopub.status.busy": "2022-10-20T00:26:57.867Z",
          "iopub.execute_input": "2022-10-20T00:26:57.877Z",
          "iopub.status.idle": "2022-10-20T00:26:57.888Z"
        }
      }
    },
    {
      "cell_type": "code",
      "source": [
        "hmc.ticker_fundament()"
      ],
      "outputs": [
        {
          "output_type": "execute_result",
          "execution_count": 23,
          "data": {
            "text/plain": "{'Company': 'Honda Motor Co., Ltd.',\n 'Sector': 'Consumer Cyclical',\n 'Industry': 'Auto Manufacturers',\n 'Country': 'Japan',\n 'Index': '-',\n 'P/E': '8.68',\n 'EPS (ttm)': '2.51',\n 'Insider Own': '0.30%',\n 'Shs Outstand': '1.71B',\n 'Perf Week': '0.05%',\n 'Market Cap': '39.33B',\n 'Forward P/E': '-',\n 'EPS next Y': '-',\n 'Insider Trans': '0.00%',\n 'Shs Float': '1.70B',\n 'Perf Month': '-10.74%',\n 'Income': '4.30B',\n 'PEG': '0.66',\n 'EPS next Q': '-',\n 'Inst Own': '5.30%',\n 'Short Float': '0.06%',\n 'Perf Quarter': '-15.09%',\n 'Sales': '100.52B',\n 'P/S': '0.39',\n 'EPS this Y': '8.00%',\n 'Inst Trans': '0.25%',\n 'Short Ratio': '0.94',\n 'Perf Half Y': '-18.65%',\n 'Book/sh': '44.47',\n 'P/B': '0.49',\n 'EPS next Y Percentage': '-',\n 'ROA': '2.70%',\n 'Target Price': '29.39',\n 'Perf Year': '-28.79%',\n 'Cash/sh': '15.06',\n 'P/C': '1.45',\n 'EPS next 5Y': '13.20%',\n 'ROE': '6.20%',\n '52W Range From': '21.53',\n '52W Range To': '32.15',\n 'Perf YTD': '-23.48%',\n 'Dividend': '0.99',\n 'P/FCF': '3.22',\n 'EPS past 5Y': '3.70%',\n 'ROI': '3.00%',\n '52W High': '-32.29%',\n 'Beta': '0.74',\n 'Dividend %': '4.54%',\n 'Quick Ratio': '1.10',\n 'Sales past 5Y': '0.80%',\n 'Gross Margin': '20.40%',\n '52W Low': '1.11%',\n 'ATR': '0.51',\n 'Employees': '204035',\n 'Current Ratio': '1.50',\n 'Sales Q/Q': '6.90%',\n 'Oper. Margin': '5.70%',\n 'RSI (14)': '34.87',\n 'Volatility W': '2.06%',\n 'Volatility M': '1.95%',\n 'Optionable': 'Yes',\n 'Debt/Eq': '0.74',\n 'EPS Q/Q': '-32.30%',\n 'Profit Margin': '4.30%',\n 'Rel Volume': '1.14',\n 'Prev Close': '21.94',\n 'Shortable': 'Yes',\n 'LT Debt/Eq': '0.45',\n 'Earnings': 'Aug 10 BMO',\n 'Payout': '-',\n 'Avg Volume': '1.17M',\n 'Price': '21.77',\n 'Recom': '1.00',\n 'SMA20': '-3.38%',\n 'SMA50': '-11.91%',\n 'SMA200': '-17.70%',\n 'Volume': '1,337,972',\n 'Change': '-0.77%'}"
          },
          "metadata": {}
        }
      ],
      "execution_count": 23,
      "metadata": {
        "collapsed": true,
        "jupyter": {
          "source_hidden": false,
          "outputs_hidden": false
        },
        "nteract": {
          "transient": {
            "deleting": false
          }
        },
        "execution": {
          "shell.execute_reply": "2022-10-20T00:26:56.922Z",
          "iopub.status.busy": "2022-10-20T00:26:57.901Z",
          "iopub.execute_input": "2022-10-20T00:26:57.911Z",
          "iopub.status.idle": "2022-10-20T00:26:57.927Z"
        }
      }
    },
    {
      "cell_type": "code",
      "source": [
        "hmc.ticker_description()"
      ],
      "outputs": [
        {
          "output_type": "execute_result",
          "execution_count": 24,
          "data": {
            "text/plain": "'Honda Motor Co., Ltd. develops, manufactures, and distributes motorcycles, automobiles, power products, and other products in Japan, North America, Europe, Asia, and internationally. It operates through four segments: Motorcycle Business, Automobile Business, Financial Services Business, and Life Creation and Other Businesses. The Motorcycle Business segment produces motorcycles, including sports, business, and commuter models; and various off-road vehicles, such as all-terrain vehicles and side-by-sides. The Automobile Business segment offers passenger cars, light trucks, and mini vehicles. The Financial Services Business segment provides various financial services, including retail lending and leasing services to customers, as well as wholesale financing services to dealers. The Life Creation and Other Businesses segment manufactures and sells power products, such as general purpose engines, generators, water pumps, lawn mowers, riding mowers, robotic mowers, brush cutters, tillers, snow blowers, outboard marine engines, walking assist devices, and portable battery inverter power sources. This segment also offers HondaJet aircraft. The company also sells spare parts; and provides after-sale services through retail dealers directly, as well as through independent distributors and licensees. Honda Motor Co., Ltd. was founded in 1946 and is headquartered in Tokyo, Japan.'"
          },
          "metadata": {}
        }
      ],
      "execution_count": 24,
      "metadata": {
        "collapsed": true,
        "jupyter": {
          "source_hidden": false,
          "outputs_hidden": false
        },
        "nteract": {
          "transient": {
            "deleting": false
          }
        },
        "execution": {
          "shell.execute_reply": "2022-10-20T00:26:56.935Z",
          "iopub.status.busy": "2022-10-20T00:26:57.941Z",
          "iopub.execute_input": "2022-10-20T00:26:57.950Z",
          "iopub.status.idle": "2022-10-20T00:26:57.966Z"
        }
      }
    },
    {
      "cell_type": "code",
      "source": [
        "hmc.ticker_outer_ratings()"
      ],
      "outputs": [
        {
          "output_type": "execute_result",
          "execution_count": 25,
          "data": {
            "text/plain": "         Date     Status             Outer                     Rating Price\n0  2021-10-05  Downgrade         JP Morgan       Overweight → Neutral      \n1  2021-02-18  Downgrade  Daiwa Securities           Buy → Outperform      \n2  2020-07-28  Initiated         Macquarie                 Outperform      \n3  2020-07-14    Upgrade              CLSA         Underperform → Buy      \n4  2020-05-12  Downgrade              CLSA  Outperform → Underperform      \n5  2020-04-13    Upgrade           Goldman              Neutral → Buy      \n6  2020-03-31    Upgrade               UBS              Neutral → Buy      \n7  2020-03-23    Upgrade      BofA/Merrill              Neutral → Buy      \n8  2019-10-21  Downgrade              CLSA           Buy → Outperform      \n9  2019-06-19  Downgrade               UBS              Buy → Neutral      \n10 2019-06-11    Upgrade     Deutsche Bank                 Hold → Buy      \n11 2019-02-19    Upgrade            Nomura              Neutral → Buy      \n12 2018-10-30    Upgrade              CLSA           Outperform → Buy      \n13 2018-10-03  Downgrade              CLSA           Buy → Outperform      \n14 2018-07-31    Upgrade              CLSA           Outperform → Buy      \n15 2018-02-20    Upgrade     Credit Suisse       Neutral → Outperform      \n16 2018-02-15    Upgrade         JP Morgan       Neutral → Overweight      \n17 2018-01-30  Downgrade              CLSA           Buy → Outperform      \n18 2017-09-05  Downgrade    Morgan Stanley  Overweight → Equal-Weight      \n19 2017-08-01    Upgrade            Nomura           Reduce → Neutral      ",
            "text/html": "<div>\n<style scoped>\n    .dataframe tbody tr th:only-of-type {\n        vertical-align: middle;\n    }\n\n    .dataframe tbody tr th {\n        vertical-align: top;\n    }\n\n    .dataframe thead th {\n        text-align: right;\n    }\n</style>\n<table border=\"1\" class=\"dataframe\">\n  <thead>\n    <tr style=\"text-align: right;\">\n      <th></th>\n      <th>Date</th>\n      <th>Status</th>\n      <th>Outer</th>\n      <th>Rating</th>\n      <th>Price</th>\n    </tr>\n  </thead>\n  <tbody>\n    <tr>\n      <th>0</th>\n      <td>2021-10-05</td>\n      <td>Downgrade</td>\n      <td>JP Morgan</td>\n      <td>Overweight → Neutral</td>\n      <td></td>\n    </tr>\n    <tr>\n      <th>1</th>\n      <td>2021-02-18</td>\n      <td>Downgrade</td>\n      <td>Daiwa Securities</td>\n      <td>Buy → Outperform</td>\n      <td></td>\n    </tr>\n    <tr>\n      <th>2</th>\n      <td>2020-07-28</td>\n      <td>Initiated</td>\n      <td>Macquarie</td>\n      <td>Outperform</td>\n      <td></td>\n    </tr>\n    <tr>\n      <th>3</th>\n      <td>2020-07-14</td>\n      <td>Upgrade</td>\n      <td>CLSA</td>\n      <td>Underperform → Buy</td>\n      <td></td>\n    </tr>\n    <tr>\n      <th>4</th>\n      <td>2020-05-12</td>\n      <td>Downgrade</td>\n      <td>CLSA</td>\n      <td>Outperform → Underperform</td>\n      <td></td>\n    </tr>\n    <tr>\n      <th>5</th>\n      <td>2020-04-13</td>\n      <td>Upgrade</td>\n      <td>Goldman</td>\n      <td>Neutral → Buy</td>\n      <td></td>\n    </tr>\n    <tr>\n      <th>6</th>\n      <td>2020-03-31</td>\n      <td>Upgrade</td>\n      <td>UBS</td>\n      <td>Neutral → Buy</td>\n      <td></td>\n    </tr>\n    <tr>\n      <th>7</th>\n      <td>2020-03-23</td>\n      <td>Upgrade</td>\n      <td>BofA/Merrill</td>\n      <td>Neutral → Buy</td>\n      <td></td>\n    </tr>\n    <tr>\n      <th>8</th>\n      <td>2019-10-21</td>\n      <td>Downgrade</td>\n      <td>CLSA</td>\n      <td>Buy → Outperform</td>\n      <td></td>\n    </tr>\n    <tr>\n      <th>9</th>\n      <td>2019-06-19</td>\n      <td>Downgrade</td>\n      <td>UBS</td>\n      <td>Buy → Neutral</td>\n      <td></td>\n    </tr>\n    <tr>\n      <th>10</th>\n      <td>2019-06-11</td>\n      <td>Upgrade</td>\n      <td>Deutsche Bank</td>\n      <td>Hold → Buy</td>\n      <td></td>\n    </tr>\n    <tr>\n      <th>11</th>\n      <td>2019-02-19</td>\n      <td>Upgrade</td>\n      <td>Nomura</td>\n      <td>Neutral → Buy</td>\n      <td></td>\n    </tr>\n    <tr>\n      <th>12</th>\n      <td>2018-10-30</td>\n      <td>Upgrade</td>\n      <td>CLSA</td>\n      <td>Outperform → Buy</td>\n      <td></td>\n    </tr>\n    <tr>\n      <th>13</th>\n      <td>2018-10-03</td>\n      <td>Downgrade</td>\n      <td>CLSA</td>\n      <td>Buy → Outperform</td>\n      <td></td>\n    </tr>\n    <tr>\n      <th>14</th>\n      <td>2018-07-31</td>\n      <td>Upgrade</td>\n      <td>CLSA</td>\n      <td>Outperform → Buy</td>\n      <td></td>\n    </tr>\n    <tr>\n      <th>15</th>\n      <td>2018-02-20</td>\n      <td>Upgrade</td>\n      <td>Credit Suisse</td>\n      <td>Neutral → Outperform</td>\n      <td></td>\n    </tr>\n    <tr>\n      <th>16</th>\n      <td>2018-02-15</td>\n      <td>Upgrade</td>\n      <td>JP Morgan</td>\n      <td>Neutral → Overweight</td>\n      <td></td>\n    </tr>\n    <tr>\n      <th>17</th>\n      <td>2018-01-30</td>\n      <td>Downgrade</td>\n      <td>CLSA</td>\n      <td>Buy → Outperform</td>\n      <td></td>\n    </tr>\n    <tr>\n      <th>18</th>\n      <td>2017-09-05</td>\n      <td>Downgrade</td>\n      <td>Morgan Stanley</td>\n      <td>Overweight → Equal-Weight</td>\n      <td></td>\n    </tr>\n    <tr>\n      <th>19</th>\n      <td>2017-08-01</td>\n      <td>Upgrade</td>\n      <td>Nomura</td>\n      <td>Reduce → Neutral</td>\n      <td></td>\n    </tr>\n  </tbody>\n</table>\n</div>"
          },
          "metadata": {}
        }
      ],
      "execution_count": 25,
      "metadata": {
        "collapsed": true,
        "jupyter": {
          "source_hidden": false,
          "outputs_hidden": false
        },
        "nteract": {
          "transient": {
            "deleting": false
          }
        },
        "execution": {
          "shell.execute_reply": "2022-10-20T00:26:56.947Z",
          "iopub.status.busy": "2022-10-20T00:26:57.979Z",
          "iopub.execute_input": "2022-10-20T00:26:57.989Z",
          "iopub.status.idle": "2022-10-20T00:26:58.005Z"
        }
      }
    },
    {
      "cell_type": "code",
      "source": [
        "# No inside info for HMC\n",
        "# hmc.ticker_inside_trader()"
      ],
      "outputs": [],
      "execution_count": 26,
      "metadata": {
        "collapsed": true,
        "jupyter": {
          "source_hidden": false,
          "outputs_hidden": false
        },
        "nteract": {
          "transient": {
            "deleting": false
          }
        },
        "execution": {
          "iopub.status.busy": "2022-10-20T00:26:58.020Z",
          "iopub.execute_input": "2022-10-20T00:26:58.029Z",
          "shell.execute_reply": "2022-10-20T00:26:56.959Z",
          "iopub.status.idle": "2022-10-20T00:26:58.042Z"
        }
      }
    },
    {
      "cell_type": "markdown",
      "source": [
        "## TLSA"
      ],
      "metadata": {
        "nteract": {
          "transient": {
            "deleting": false
          }
        }
      }
    },
    {
      "cell_type": "code",
      "source": [
        "tsla = finvizfinance('tsla')"
      ],
      "outputs": [],
      "execution_count": 27,
      "metadata": {
        "collapsed": true,
        "jupyter": {
          "source_hidden": false,
          "outputs_hidden": false
        },
        "nteract": {
          "transient": {
            "deleting": false
          }
        },
        "execution": {
          "iopub.status.busy": "2022-10-20T00:26:58.058Z",
          "iopub.execute_input": "2022-10-20T00:26:58.068Z",
          "iopub.status.idle": "2022-10-20T00:26:58.080Z",
          "shell.execute_reply": "2022-10-20T00:26:56.969Z"
        }
      }
    },
    {
      "cell_type": "code",
      "source": [
        "tsla.ticker_fundament()"
      ],
      "outputs": [
        {
          "output_type": "execute_result",
          "execution_count": 28,
          "data": {
            "text/plain": "{'Company': 'Tesla, Inc.',\n 'Sector': 'Consumer Cyclical',\n 'Industry': 'Auto Manufacturers',\n 'Country': 'USA',\n 'Index': 'S&P 500',\n 'P/E': '79.96',\n 'EPS (ttm)': '2.78',\n 'Insider Own': '0.10%',\n 'Shs Outstand': '3.11B',\n 'Perf Week': '2.21%',\n 'Market Cap': '752.54B',\n 'Forward P/E': '37.57',\n 'EPS next Y': '5.91',\n 'Insider Trans': '-74.33%',\n 'Shs Float': '2.62B',\n 'Perf Month': '-28.08%',\n 'Income': '9.51B',\n 'PEG': '1.45',\n 'EPS next Q': '1.00',\n 'Inst Own': '44.30%',\n 'Short Float': '2.39%',\n 'Perf Quarter': '-18.28%',\n 'Sales': '67.17B',\n 'P/S': '11.20',\n 'EPS this Y': '669.20%',\n 'Inst Trans': '-0.02%',\n 'Short Ratio': '0.85',\n 'Perf Half Y': '-31.83%',\n 'Book/sh': '11.69',\n 'P/B': '18.99',\n 'EPS next Y Percentage': '44.36%',\n 'ROA': '15.00%',\n 'Target Price': '292.67',\n 'Perf Year': '-22.93%',\n 'Cash/sh': '5.58',\n 'P/C': '39.79',\n 'EPS next 5Y': '54.98%',\n 'ROE': '29.80%',\n '52W Range From': '204.16',\n '52W Range To': '414.50',\n 'Perf YTD': '-36.97%',\n 'Dividend': '-',\n 'P/FCF': '53.51',\n 'EPS past 5Y': '48.60%',\n 'ROI': '15.70%',\n '52W High': '-46.43%',\n 'Beta': '2.10',\n 'Dividend %': '-',\n 'Quick Ratio': '1.10',\n 'Sales past 5Y': '50.40%',\n 'Gross Margin': '27.10%',\n '52W Low': '8.76%',\n 'ATR': '13.13',\n 'Employees': '99290',\n 'Current Ratio': '1.40',\n 'Sales Q/Q': '41.60%',\n 'Oper. Margin': '15.90%',\n 'RSI (14)': '36.08',\n 'Volatility W': '6.61%',\n 'Volatility M': '5.35%',\n 'Optionable': 'Yes',\n 'Debt/Eq': '0.12',\n 'EPS Q/Q': '91.40%',\n 'Profit Margin': '14.20%',\n 'Rel Volume': '0.84',\n 'Prev Close': '220.19',\n 'Shortable': 'Yes',\n 'LT Debt/Eq': '0.08',\n 'Earnings': 'Oct 19 AMC',\n 'Payout': '0.00%',\n 'Avg Volume': '74.00M',\n 'Price': '222.04',\n 'Recom': '2.30',\n 'SMA20': '-10.50%',\n 'SMA50': '-19.37%',\n 'SMA200': '-21.85%',\n 'Volume': '61,847,553',\n 'Change': '0.84%'}"
          },
          "metadata": {}
        }
      ],
      "execution_count": 28,
      "metadata": {
        "collapsed": true,
        "jupyter": {
          "source_hidden": false,
          "outputs_hidden": false
        },
        "nteract": {
          "transient": {
            "deleting": false
          }
        },
        "execution": {
          "iopub.status.busy": "2022-10-20T00:26:58.093Z",
          "iopub.execute_input": "2022-10-20T00:26:58.105Z",
          "iopub.status.idle": "2022-10-20T00:26:58.153Z",
          "shell.execute_reply": "2022-10-20T00:26:56.979Z"
        }
      }
    },
    {
      "cell_type": "code",
      "source": [
        "tsla.ticker_description()"
      ],
      "outputs": [
        {
          "output_type": "execute_result",
          "execution_count": 29,
          "data": {
            "text/plain": "'Tesla, Inc. designs, develops, manufactures, leases, and sells electric vehicles, and energy generation and storage systems in the United States, China, and internationally. The company operates in two segments, Automotive, and Energy Generation and Storage. The Automotive segment offers electric vehicles, as well as sells automotive regulatory credits. It provides sedans and sport utility vehicles through direct and used vehicle sales, a network of Tesla Superchargers, and in-app upgrades; and purchase financing and leasing services. This segment is also involved in the provision of non-warranty after-sales vehicle services, sale of used vehicles, retail merchandise, and vehicle insurance, as well as sale of products to third party customers; services for electric vehicles through its company-owned service locations, and Tesla mobile service technicians; and vehicle limited warranties and extended service plans. The Energy Generation and Storage segment engages in the design, manufacture, installation, sale, and leasing of solar energy generation and energy storage products, and related services to residential, commercial, and industrial customers and utilities through its website, stores, and galleries, as well as through a network of channel partners. This segment also offers service and repairs to its energy product customers, including under warranty; and various financing options to its solar customers. The company was formerly known as Tesla Motors, Inc. and changed its name to Tesla, Inc. in February 2017. Tesla, Inc. was incorporated in 2003 and is headquartered in Austin, Texas.'"
          },
          "metadata": {}
        }
      ],
      "execution_count": 29,
      "metadata": {
        "collapsed": true,
        "jupyter": {
          "source_hidden": false,
          "outputs_hidden": false
        },
        "nteract": {
          "transient": {
            "deleting": false
          }
        },
        "execution": {
          "iopub.status.busy": "2022-10-20T00:26:58.167Z",
          "iopub.execute_input": "2022-10-20T00:26:58.177Z",
          "iopub.status.idle": "2022-10-20T00:26:58.194Z",
          "shell.execute_reply": "2022-10-20T00:26:56.988Z"
        }
      }
    },
    {
      "cell_type": "code",
      "source": [
        "tsla.ticker_outer_ratings()"
      ],
      "outputs": [
        {
          "output_type": "execute_result",
          "execution_count": 30,
          "data": {
            "text/plain": "         Date      Status                         Outer  \\\n0  2022-10-14  Reiterated                   Wells Fargo   \n1  2022-09-15     Upgrade                       Needham   \n2  2022-09-06     Upgrade                Wolfe Research   \n3  2022-07-19     Resumed                 Credit Suisse   \n4  2022-07-14   Initiated                        Truist   \n5  2022-07-13     Resumed             Canaccord Genuity   \n6  2022-06-24  Reiterated                 Credit Suisse   \n7  2022-06-13     Upgrade              RBC Capital Mkts   \n8  2022-06-09     Upgrade                           UBS   \n9  2022-05-17     Upgrade  Tudor, Pickering, Holt & Co.   \n10 2022-05-10   Initiated                     Berenberg   \n11 2022-02-25     Upgrade              Daiwa Securities   \n12 2022-01-31     Upgrade                 Credit Suisse   \n13 2022-01-27  Reiterated                   Wells Fargo   \n14 2022-01-27  Reiterated               Robert W. Baird   \n15 2022-01-27  Reiterated                   Oppenheimer   \n16 2022-01-27  Reiterated                     JP Morgan   \n17 2022-01-27  Reiterated                         Cowen   \n18 2022-01-27  Reiterated                     Citigroup   \n19 2022-01-05  Reiterated                      Barclays   \n\n                         Rating          Price  \n0                  Equal Weight    $280 → $230  \n1           Underperform → Hold                 \n2     Peer Perform → Outperform           $360  \n3                    Outperform          $1000  \n4                           Buy          $1000  \n5                           Buy           $801  \n6                    Outperform  $1125 → $1000  \n7   Sector Perform → Outperform  $1175 → $1100  \n8                 Neutral → Buy          $1100  \n9                   Sell → Hold                 \n10                         Hold           $900  \n11         Neutral → Outperform    $980 → $900  \n12         Neutral → Outperform          $1025  \n13                 Equal Weight    $860 → $910  \n14                   Outperform   $888 → $1108  \n15                   Outperform  $1080 → $1103  \n16                  Underweight    $295 → $325  \n17               Market Perform    $625 → $660  \n18                         Sell    $262 → $313  \n19                  Underweight    $300 → $325  ",
            "text/html": "<div>\n<style scoped>\n    .dataframe tbody tr th:only-of-type {\n        vertical-align: middle;\n    }\n\n    .dataframe tbody tr th {\n        vertical-align: top;\n    }\n\n    .dataframe thead th {\n        text-align: right;\n    }\n</style>\n<table border=\"1\" class=\"dataframe\">\n  <thead>\n    <tr style=\"text-align: right;\">\n      <th></th>\n      <th>Date</th>\n      <th>Status</th>\n      <th>Outer</th>\n      <th>Rating</th>\n      <th>Price</th>\n    </tr>\n  </thead>\n  <tbody>\n    <tr>\n      <th>0</th>\n      <td>2022-10-14</td>\n      <td>Reiterated</td>\n      <td>Wells Fargo</td>\n      <td>Equal Weight</td>\n      <td>$280 → $230</td>\n    </tr>\n    <tr>\n      <th>1</th>\n      <td>2022-09-15</td>\n      <td>Upgrade</td>\n      <td>Needham</td>\n      <td>Underperform → Hold</td>\n      <td></td>\n    </tr>\n    <tr>\n      <th>2</th>\n      <td>2022-09-06</td>\n      <td>Upgrade</td>\n      <td>Wolfe Research</td>\n      <td>Peer Perform → Outperform</td>\n      <td>$360</td>\n    </tr>\n    <tr>\n      <th>3</th>\n      <td>2022-07-19</td>\n      <td>Resumed</td>\n      <td>Credit Suisse</td>\n      <td>Outperform</td>\n      <td>$1000</td>\n    </tr>\n    <tr>\n      <th>4</th>\n      <td>2022-07-14</td>\n      <td>Initiated</td>\n      <td>Truist</td>\n      <td>Buy</td>\n      <td>$1000</td>\n    </tr>\n    <tr>\n      <th>5</th>\n      <td>2022-07-13</td>\n      <td>Resumed</td>\n      <td>Canaccord Genuity</td>\n      <td>Buy</td>\n      <td>$801</td>\n    </tr>\n    <tr>\n      <th>6</th>\n      <td>2022-06-24</td>\n      <td>Reiterated</td>\n      <td>Credit Suisse</td>\n      <td>Outperform</td>\n      <td>$1125 → $1000</td>\n    </tr>\n    <tr>\n      <th>7</th>\n      <td>2022-06-13</td>\n      <td>Upgrade</td>\n      <td>RBC Capital Mkts</td>\n      <td>Sector Perform → Outperform</td>\n      <td>$1175 → $1100</td>\n    </tr>\n    <tr>\n      <th>8</th>\n      <td>2022-06-09</td>\n      <td>Upgrade</td>\n      <td>UBS</td>\n      <td>Neutral → Buy</td>\n      <td>$1100</td>\n    </tr>\n    <tr>\n      <th>9</th>\n      <td>2022-05-17</td>\n      <td>Upgrade</td>\n      <td>Tudor, Pickering, Holt &amp; Co.</td>\n      <td>Sell → Hold</td>\n      <td></td>\n    </tr>\n    <tr>\n      <th>10</th>\n      <td>2022-05-10</td>\n      <td>Initiated</td>\n      <td>Berenberg</td>\n      <td>Hold</td>\n      <td>$900</td>\n    </tr>\n    <tr>\n      <th>11</th>\n      <td>2022-02-25</td>\n      <td>Upgrade</td>\n      <td>Daiwa Securities</td>\n      <td>Neutral → Outperform</td>\n      <td>$980 → $900</td>\n    </tr>\n    <tr>\n      <th>12</th>\n      <td>2022-01-31</td>\n      <td>Upgrade</td>\n      <td>Credit Suisse</td>\n      <td>Neutral → Outperform</td>\n      <td>$1025</td>\n    </tr>\n    <tr>\n      <th>13</th>\n      <td>2022-01-27</td>\n      <td>Reiterated</td>\n      <td>Wells Fargo</td>\n      <td>Equal Weight</td>\n      <td>$860 → $910</td>\n    </tr>\n    <tr>\n      <th>14</th>\n      <td>2022-01-27</td>\n      <td>Reiterated</td>\n      <td>Robert W. Baird</td>\n      <td>Outperform</td>\n      <td>$888 → $1108</td>\n    </tr>\n    <tr>\n      <th>15</th>\n      <td>2022-01-27</td>\n      <td>Reiterated</td>\n      <td>Oppenheimer</td>\n      <td>Outperform</td>\n      <td>$1080 → $1103</td>\n    </tr>\n    <tr>\n      <th>16</th>\n      <td>2022-01-27</td>\n      <td>Reiterated</td>\n      <td>JP Morgan</td>\n      <td>Underweight</td>\n      <td>$295 → $325</td>\n    </tr>\n    <tr>\n      <th>17</th>\n      <td>2022-01-27</td>\n      <td>Reiterated</td>\n      <td>Cowen</td>\n      <td>Market Perform</td>\n      <td>$625 → $660</td>\n    </tr>\n    <tr>\n      <th>18</th>\n      <td>2022-01-27</td>\n      <td>Reiterated</td>\n      <td>Citigroup</td>\n      <td>Sell</td>\n      <td>$262 → $313</td>\n    </tr>\n    <tr>\n      <th>19</th>\n      <td>2022-01-05</td>\n      <td>Reiterated</td>\n      <td>Barclays</td>\n      <td>Underweight</td>\n      <td>$300 → $325</td>\n    </tr>\n  </tbody>\n</table>\n</div>"
          },
          "metadata": {}
        }
      ],
      "execution_count": 30,
      "metadata": {
        "collapsed": true,
        "jupyter": {
          "source_hidden": false,
          "outputs_hidden": false
        },
        "nteract": {
          "transient": {
            "deleting": false
          }
        },
        "execution": {
          "iopub.status.busy": "2022-10-20T00:26:58.209Z",
          "iopub.execute_input": "2022-10-20T00:26:58.218Z",
          "iopub.status.idle": "2022-10-20T00:26:58.235Z",
          "shell.execute_reply": "2022-10-20T00:26:56.998Z"
        }
      }
    },
    {
      "cell_type": "code",
      "source": [
        "tsla.ticker_inside_trader()"
      ],
      "outputs": [
        {
          "output_type": "execute_result",
          "execution_count": 31,
          "data": {
            "text/plain": "             Insider Trading                    Relationship    Date  \\\n0           Kirkhorn Zachary         Chief Financial Officer  Oct 04   \n1           Baglino Andrew D  SVP Powertrain and Energy Eng.  Sep 27   \n2           Baglino Andrew D  SVP Powertrain and Energy Eng.  Sep 27   \n3           Kirkhorn Zachary         Chief Financial Officer  Sep 12   \n4   Wilson-Thompson Kathleen                        Director  Sep 08   \n..                       ...                             ...     ...   \n95                 Musk Elon                             CEO  Dec 09   \n96          Kirkhorn Zachary         Chief Financial Officer  Dec 06   \n97            Taneja Vaibhav        Chief Accounting Officer  Dec 06   \n98          Baglino Andrew D  SVP Powertrain and Energy Eng.  Dec 06   \n99          Baglino Andrew D  SVP Powertrain and Energy Eng.  Dec 05   \n\n        Transaction     Cost   #Shares    Value ($)  #Shares Total  \\\n0              Sale   250.50    3750.0     939375.0       189027.0   \n1   Option Exercise    20.91   10500.0     219555.0        73488.0   \n2              Sale   284.01   10500.0    2982105.0        62988.0   \n3              Sale   300.59    3750.0    1127212.0       192777.0   \n4   Option Exercise    14.99   26250.0     393488.0        31650.0   \n..              ...      ...       ...          ...            ...   \n95             Sale  1021.56  543452.0  555171415.0      1621789.0   \n96             Sale   980.43    2652.0    2600345.0        56634.0   \n97             Sale   980.41    1590.0    1559339.0        22905.0   \n98             Sale   980.47     917.0     899091.0        19249.0   \n99  Option Exercise     0.00    1786.0          0.0        20166.0   \n\n         SEC Form 4                                    SEC Form 4 Link  \\\n0   Oct 05 07:35 PM  http://www.sec.gov/Archives/edgar/data/1318605...   \n1   Sep 30 07:03 PM  http://www.sec.gov/Archives/edgar/data/1318605...   \n2   Sep 30 07:03 PM  http://www.sec.gov/Archives/edgar/data/1318605...   \n3   Sep 14 07:47 PM  http://www.sec.gov/Archives/edgar/data/1318605...   \n4   Sep 12 09:44 PM  http://www.sec.gov/Archives/edgar/data/1318605...   \n..              ...                                                ...   \n95  Dec 09 08:19 PM  http://www.sec.gov/Archives/edgar/data/1318605...   \n96  Dec 07 09:02 PM  http://www.sec.gov/Archives/edgar/data/1318605...   \n97  Dec 07 09:11 PM  http://www.sec.gov/Archives/edgar/data/1318605...   \n98  Dec 07 09:20 PM  http://www.sec.gov/Archives/edgar/data/1318605...   \n99  Dec 07 09:20 PM  http://www.sec.gov/Archives/edgar/data/1318605...   \n\n   Insider_id  \n0     1771364  \n1     1790565  \n2     1790565  \n3     1771364  \n4     1331680  \n..        ...  \n95    1494730  \n96    1771364  \n97    1771340  \n98    1790565  \n99    1790565  \n\n[100 rows x 11 columns]",
            "text/html": "<div>\n<style scoped>\n    .dataframe tbody tr th:only-of-type {\n        vertical-align: middle;\n    }\n\n    .dataframe tbody tr th {\n        vertical-align: top;\n    }\n\n    .dataframe thead th {\n        text-align: right;\n    }\n</style>\n<table border=\"1\" class=\"dataframe\">\n  <thead>\n    <tr style=\"text-align: right;\">\n      <th></th>\n      <th>Insider Trading</th>\n      <th>Relationship</th>\n      <th>Date</th>\n      <th>Transaction</th>\n      <th>Cost</th>\n      <th>#Shares</th>\n      <th>Value ($)</th>\n      <th>#Shares Total</th>\n      <th>SEC Form 4</th>\n      <th>SEC Form 4 Link</th>\n      <th>Insider_id</th>\n    </tr>\n  </thead>\n  <tbody>\n    <tr>\n      <th>0</th>\n      <td>Kirkhorn Zachary</td>\n      <td>Chief Financial Officer</td>\n      <td>Oct 04</td>\n      <td>Sale</td>\n      <td>250.50</td>\n      <td>3750.0</td>\n      <td>939375.0</td>\n      <td>189027.0</td>\n      <td>Oct 05 07:35 PM</td>\n      <td>http://www.sec.gov/Archives/edgar/data/1318605...</td>\n      <td>1771364</td>\n    </tr>\n    <tr>\n      <th>1</th>\n      <td>Baglino Andrew D</td>\n      <td>SVP Powertrain and Energy Eng.</td>\n      <td>Sep 27</td>\n      <td>Option Exercise</td>\n      <td>20.91</td>\n      <td>10500.0</td>\n      <td>219555.0</td>\n      <td>73488.0</td>\n      <td>Sep 30 07:03 PM</td>\n      <td>http://www.sec.gov/Archives/edgar/data/1318605...</td>\n      <td>1790565</td>\n    </tr>\n    <tr>\n      <th>2</th>\n      <td>Baglino Andrew D</td>\n      <td>SVP Powertrain and Energy Eng.</td>\n      <td>Sep 27</td>\n      <td>Sale</td>\n      <td>284.01</td>\n      <td>10500.0</td>\n      <td>2982105.0</td>\n      <td>62988.0</td>\n      <td>Sep 30 07:03 PM</td>\n      <td>http://www.sec.gov/Archives/edgar/data/1318605...</td>\n      <td>1790565</td>\n    </tr>\n    <tr>\n      <th>3</th>\n      <td>Kirkhorn Zachary</td>\n      <td>Chief Financial Officer</td>\n      <td>Sep 12</td>\n      <td>Sale</td>\n      <td>300.59</td>\n      <td>3750.0</td>\n      <td>1127212.0</td>\n      <td>192777.0</td>\n      <td>Sep 14 07:47 PM</td>\n      <td>http://www.sec.gov/Archives/edgar/data/1318605...</td>\n      <td>1771364</td>\n    </tr>\n    <tr>\n      <th>4</th>\n      <td>Wilson-Thompson Kathleen</td>\n      <td>Director</td>\n      <td>Sep 08</td>\n      <td>Option Exercise</td>\n      <td>14.99</td>\n      <td>26250.0</td>\n      <td>393488.0</td>\n      <td>31650.0</td>\n      <td>Sep 12 09:44 PM</td>\n      <td>http://www.sec.gov/Archives/edgar/data/1318605...</td>\n      <td>1331680</td>\n    </tr>\n    <tr>\n      <th>...</th>\n      <td>...</td>\n      <td>...</td>\n      <td>...</td>\n      <td>...</td>\n      <td>...</td>\n      <td>...</td>\n      <td>...</td>\n      <td>...</td>\n      <td>...</td>\n      <td>...</td>\n      <td>...</td>\n    </tr>\n    <tr>\n      <th>95</th>\n      <td>Musk Elon</td>\n      <td>CEO</td>\n      <td>Dec 09</td>\n      <td>Sale</td>\n      <td>1021.56</td>\n      <td>543452.0</td>\n      <td>555171415.0</td>\n      <td>1621789.0</td>\n      <td>Dec 09 08:19 PM</td>\n      <td>http://www.sec.gov/Archives/edgar/data/1318605...</td>\n      <td>1494730</td>\n    </tr>\n    <tr>\n      <th>96</th>\n      <td>Kirkhorn Zachary</td>\n      <td>Chief Financial Officer</td>\n      <td>Dec 06</td>\n      <td>Sale</td>\n      <td>980.43</td>\n      <td>2652.0</td>\n      <td>2600345.0</td>\n      <td>56634.0</td>\n      <td>Dec 07 09:02 PM</td>\n      <td>http://www.sec.gov/Archives/edgar/data/1318605...</td>\n      <td>1771364</td>\n    </tr>\n    <tr>\n      <th>97</th>\n      <td>Taneja Vaibhav</td>\n      <td>Chief Accounting Officer</td>\n      <td>Dec 06</td>\n      <td>Sale</td>\n      <td>980.41</td>\n      <td>1590.0</td>\n      <td>1559339.0</td>\n      <td>22905.0</td>\n      <td>Dec 07 09:11 PM</td>\n      <td>http://www.sec.gov/Archives/edgar/data/1318605...</td>\n      <td>1771340</td>\n    </tr>\n    <tr>\n      <th>98</th>\n      <td>Baglino Andrew D</td>\n      <td>SVP Powertrain and Energy Eng.</td>\n      <td>Dec 06</td>\n      <td>Sale</td>\n      <td>980.47</td>\n      <td>917.0</td>\n      <td>899091.0</td>\n      <td>19249.0</td>\n      <td>Dec 07 09:20 PM</td>\n      <td>http://www.sec.gov/Archives/edgar/data/1318605...</td>\n      <td>1790565</td>\n    </tr>\n    <tr>\n      <th>99</th>\n      <td>Baglino Andrew D</td>\n      <td>SVP Powertrain and Energy Eng.</td>\n      <td>Dec 05</td>\n      <td>Option Exercise</td>\n      <td>0.00</td>\n      <td>1786.0</td>\n      <td>0.0</td>\n      <td>20166.0</td>\n      <td>Dec 07 09:20 PM</td>\n      <td>http://www.sec.gov/Archives/edgar/data/1318605...</td>\n      <td>1790565</td>\n    </tr>\n  </tbody>\n</table>\n<p>100 rows × 11 columns</p>\n</div>"
          },
          "metadata": {}
        }
      ],
      "execution_count": 31,
      "metadata": {
        "collapsed": true,
        "jupyter": {
          "source_hidden": false,
          "outputs_hidden": false
        },
        "nteract": {
          "transient": {
            "deleting": false
          }
        },
        "execution": {
          "iopub.status.busy": "2022-10-20T00:26:58.248Z",
          "iopub.execute_input": "2022-10-20T00:26:58.257Z",
          "shell.execute_reply": "2022-10-20T00:26:57.011Z",
          "iopub.status.idle": "2022-10-20T00:26:58.271Z"
        }
      }
    }
  ],
  "metadata": {
    "kernel_info": {
      "name": "python3"
    },
    "language_info": {
      "name": "python",
      "version": "3.6.13",
      "mimetype": "text/x-python",
      "codemirror_mode": {
        "name": "ipython",
        "version": 3
      },
      "pygments_lexer": "ipython3",
      "nbconvert_exporter": "python",
      "file_extension": ".py"
    },
    "kernelspec": {
      "argv": [
        "C:/Users/Tin Hang/Anaconda3\\python.exe",
        "-m",
        "ipykernel_launcher",
        "-f",
        "{connection_file}"
      ],
      "display_name": "Python 3",
      "language": "python",
      "name": "python3"
    },
    "nteract": {
      "version": "0.28.0"
    }
  },
  "nbformat": 4,
  "nbformat_minor": 0
}